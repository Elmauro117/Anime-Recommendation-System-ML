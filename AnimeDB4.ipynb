{
 "cells": [
  {
   "cell_type": "code",
   "execution_count": 1,
   "metadata": {},
   "outputs": [],
   "source": [
    "import numpy as np\n",
    "import pandas as pd\n",
    "import seaborn as sns\n",
    "import matplotlib.pyplot as plt"
   ]
  },
  {
   "cell_type": "code",
   "execution_count": 2,
   "metadata": {},
   "outputs": [
    {
     "data": {
      "text/plain": [
       "'C:\\\\Users\\\\CLIENTE'"
      ]
     },
     "execution_count": 2,
     "metadata": {},
     "output_type": "execute_result"
    }
   ],
   "source": [
    "pwd"
   ]
  },
  {
   "cell_type": "code",
   "execution_count": 3,
   "metadata": {},
   "outputs": [
    {
     "name": "stdout",
     "output_type": "stream",
     "text": [
      "E:\\DATASETS\\Anime Database\n"
     ]
    }
   ],
   "source": [
    "cd \"E:\\DATASETS\\Anime Database\\\""
   ]
  },
  {
   "cell_type": "code",
   "execution_count": 4,
   "metadata": {
    "scrolled": true
   },
   "outputs": [],
   "source": [
    "df = pd.read_csv(\"Anime.csv\")"
   ]
  },
  {
   "cell_type": "code",
   "execution_count": 5,
   "metadata": {},
   "outputs": [
    {
     "data": {
      "text/html": [
       "<div>\n",
       "<style scoped>\n",
       "    .dataframe tbody tr th:only-of-type {\n",
       "        vertical-align: middle;\n",
       "    }\n",
       "\n",
       "    .dataframe tbody tr th {\n",
       "        vertical-align: top;\n",
       "    }\n",
       "\n",
       "    .dataframe thead th {\n",
       "        text-align: right;\n",
       "    }\n",
       "</style>\n",
       "<table border=\"1\" class=\"dataframe\">\n",
       "  <thead>\n",
       "    <tr style=\"text-align: right;\">\n",
       "      <th></th>\n",
       "      <th>ID</th>\n",
       "      <th>Title</th>\n",
       "      <th>Synonyms</th>\n",
       "      <th>Japanese</th>\n",
       "      <th>English</th>\n",
       "      <th>Synopsis</th>\n",
       "      <th>Type</th>\n",
       "      <th>Episodes</th>\n",
       "      <th>Status</th>\n",
       "      <th>Start_Aired</th>\n",
       "      <th>End_Aired</th>\n",
       "      <th>Premiered</th>\n",
       "      <th>Broadcast</th>\n",
       "      <th>Producers</th>\n",
       "      <th>Licensors</th>\n",
       "      <th>Studios</th>\n",
       "      <th>Source</th>\n",
       "      <th>Genres</th>\n",
       "      <th>Themes</th>\n",
       "      <th>Demographics</th>\n",
       "      <th>Duration_Minutes</th>\n",
       "      <th>Rating</th>\n",
       "      <th>Score</th>\n",
       "      <th>Scored_Users</th>\n",
       "      <th>Ranked</th>\n",
       "      <th>Popularity</th>\n",
       "      <th>Members</th>\n",
       "      <th>Favorites</th>\n",
       "    </tr>\n",
       "  </thead>\n",
       "  <tbody>\n",
       "    <tr>\n",
       "      <th>0</th>\n",
       "      <td>16498</td>\n",
       "      <td>Shingeki no Kyojin</td>\n",
       "      <td>AoT, SnK</td>\n",
       "      <td>進撃の巨人</td>\n",
       "      <td>Attack on Titan</td>\n",
       "      <td>Centuries ago, mankind was slaughtered to near...</td>\n",
       "      <td>TV</td>\n",
       "      <td>25.0</td>\n",
       "      <td>Finished Airing</td>\n",
       "      <td>Apr 7, 2013</td>\n",
       "      <td>Sep 29, 2013</td>\n",
       "      <td>Spring 2013</td>\n",
       "      <td>Sundays at 0158 (JST)</td>\n",
       "      <td>Production I.G, Dentsu, Mainichi Broadcasting ...</td>\n",
       "      <td>Funimation</td>\n",
       "      <td>Wit Studio</td>\n",
       "      <td>Manga</td>\n",
       "      <td>Action, Drama</td>\n",
       "      <td>Gore, Military, Survival</td>\n",
       "      <td>Shounen</td>\n",
       "      <td>24.0</td>\n",
       "      <td>R - 17+ (violence &amp; profanity)</td>\n",
       "      <td>8.531</td>\n",
       "      <td>519803.0</td>\n",
       "      <td>1002.0</td>\n",
       "      <td>1</td>\n",
       "      <td>3524109</td>\n",
       "      <td>155695</td>\n",
       "    </tr>\n",
       "    <tr>\n",
       "      <th>1</th>\n",
       "      <td>1535</td>\n",
       "      <td>Death Note</td>\n",
       "      <td>DN</td>\n",
       "      <td>デスノート</td>\n",
       "      <td>Death Note</td>\n",
       "      <td>Brutal murders, petty thefts, and senseless vi...</td>\n",
       "      <td>TV</td>\n",
       "      <td>37.0</td>\n",
       "      <td>Finished Airing</td>\n",
       "      <td>Oct 4, 2006</td>\n",
       "      <td>Jun 27, 2007</td>\n",
       "      <td>Fall 2006</td>\n",
       "      <td>Wednesdays at 0056 (JST)</td>\n",
       "      <td>VAP, Konami, Ashi Productions, Nippon Televisi...</td>\n",
       "      <td>VIZ Media</td>\n",
       "      <td>Madhouse</td>\n",
       "      <td>Manga</td>\n",
       "      <td>Supernatural, Suspense</td>\n",
       "      <td>Psychological</td>\n",
       "      <td>Shounen</td>\n",
       "      <td>23.0</td>\n",
       "      <td>R - 17+ (violence &amp; profanity)</td>\n",
       "      <td>8.621</td>\n",
       "      <td>485487.0</td>\n",
       "      <td>732.0</td>\n",
       "      <td>2</td>\n",
       "      <td>3504535</td>\n",
       "      <td>159701</td>\n",
       "    </tr>\n",
       "  </tbody>\n",
       "</table>\n",
       "</div>"
      ],
      "text/plain": [
       "      ID               Title  Synonyms Japanese          English  \\\n",
       "0  16498  Shingeki no Kyojin  AoT, SnK    進撃の巨人  Attack on Titan   \n",
       "1   1535          Death Note        DN    デスノート       Death Note   \n",
       "\n",
       "                                            Synopsis Type  Episodes  \\\n",
       "0  Centuries ago, mankind was slaughtered to near...   TV      25.0   \n",
       "1  Brutal murders, petty thefts, and senseless vi...   TV      37.0   \n",
       "\n",
       "            Status  Start_Aired     End_Aired    Premiered  \\\n",
       "0  Finished Airing  Apr 7, 2013  Sep 29, 2013  Spring 2013   \n",
       "1  Finished Airing  Oct 4, 2006  Jun 27, 2007    Fall 2006   \n",
       "\n",
       "                  Broadcast  \\\n",
       "0     Sundays at 0158 (JST)   \n",
       "1  Wednesdays at 0056 (JST)   \n",
       "\n",
       "                                           Producers   Licensors     Studios  \\\n",
       "0  Production I.G, Dentsu, Mainichi Broadcasting ...  Funimation  Wit Studio   \n",
       "1  VAP, Konami, Ashi Productions, Nippon Televisi...   VIZ Media    Madhouse   \n",
       "\n",
       "  Source                  Genres                    Themes Demographics  \\\n",
       "0  Manga           Action, Drama  Gore, Military, Survival      Shounen   \n",
       "1  Manga  Supernatural, Suspense             Psychological      Shounen   \n",
       "\n",
       "   Duration_Minutes                          Rating  Score  Scored_Users  \\\n",
       "0              24.0  R - 17+ (violence & profanity)  8.531      519803.0   \n",
       "1              23.0  R - 17+ (violence & profanity)  8.621      485487.0   \n",
       "\n",
       "   Ranked  Popularity  Members  Favorites  \n",
       "0  1002.0           1  3524109     155695  \n",
       "1   732.0           2  3504535     159701  "
      ]
     },
     "execution_count": 5,
     "metadata": {},
     "output_type": "execute_result"
    }
   ],
   "source": [
    "pd.set_option('display.max_columns', 50)\n",
    "df.head(2)"
   ]
  },
  {
   "cell_type": "code",
   "execution_count": 6,
   "metadata": {},
   "outputs": [
    {
     "data": {
      "text/plain": [
       "(21460, 28)"
      ]
     },
     "execution_count": 6,
     "metadata": {},
     "output_type": "execute_result"
    }
   ],
   "source": [
    "df.shape"
   ]
  },
  {
   "cell_type": "markdown",
   "metadata": {},
   "source": [
    "##### Counting Nan values"
   ]
  },
  {
   "cell_type": "code",
   "execution_count": 7,
   "metadata": {
    "scrolled": true
   },
   "outputs": [
    {
     "data": {
      "text/plain": [
       "ID                     0\n",
       "Title                  0\n",
       "Synonyms               0\n",
       "Japanese               0\n",
       "English                0\n",
       "Synopsis               0\n",
       "Type                   0\n",
       "Episodes             547\n",
       "Status                 0\n",
       "Start_Aired            0\n",
       "End_Aired              0\n",
       "Premiered              0\n",
       "Broadcast              0\n",
       "Producers              0\n",
       "Licensors              0\n",
       "Studios                0\n",
       "Source                 0\n",
       "Genres                 0\n",
       "Themes                 0\n",
       "Demographics           0\n",
       "Duration_Minutes     599\n",
       "Rating                 0\n",
       "Score               6898\n",
       "Scored_Users        6898\n",
       "Ranked              1924\n",
       "Popularity             0\n",
       "Members                0\n",
       "Favorites              0\n",
       "dtype: int64"
      ]
     },
     "execution_count": 7,
     "metadata": {},
     "output_type": "execute_result"
    }
   ],
   "source": [
    "df.isna().sum()\n",
    "## MV == Missing Values\n",
    "## Epsiodes the MV can be replaced by the average of episodes, which is 12 by season\n",
    "## Duration_minutes he MV can be replaced by the average Duration which is 23 minutes\n",
    "## Unfortunatebly score have many MV, so is possible that those Animes weren't popular, but getting rid of\n",
    "## so many unpopular animes can baised our dataset, hence our model. But scoring them with the average can also be a bad idea\n",
    "## and once again it can bias our model. Too much data is missing in that particular column, probably the best soulition is \n",
    "## just to drop it from the dataset. Same with Scored_users column\n",
    "## Ranked, we can rank and clip the MV as the worst ranked animes."
   ]
  },
  {
   "cell_type": "code",
   "execution_count": 8,
   "metadata": {
    "scrolled": true
   },
   "outputs": [
    {
     "data": {
      "text/plain": [
       "362                                    Chainsaw Man\n",
       "813                              Mob Psycho 100 III\n",
       "833            Tate no Yuusha no Nariagari Season 3\n",
       "890                             Spy x Family Part 2\n",
       "915                Boku no Hero Academia 6th Season\n",
       "                            ...                    \n",
       "21455      Xiao Gongzhu Ai Wei La Yu Shenmi Wangguo\n",
       "21456    Xiao Gongzhu Ai Wei La Yu Shenmi Wangguo 2\n",
       "21457                       Yongzhe Chuang Mo Cheng\n",
       "21458               Yu Shen Chuan: Wangzhe Shaonian\n",
       "21459                                 Konglong Wang\n",
       "Name: Title, Length: 6898, dtype: object"
      ]
     },
     "execution_count": 8,
     "metadata": {},
     "output_type": "execute_result"
    }
   ],
   "source": [
    "df.Title[df['Score'].isna()]\n",
    "## So seeing this I realized that the animes with MV on the score column are Animes that haven't been aired yet,\n",
    "## or havne't finished yet. \n",
    "### But they've been announced or are being aired but aren't finished\n",
    "#### So is safe and fair to "
   ]
  },
  {
   "cell_type": "code",
   "execution_count": 9,
   "metadata": {
    "scrolled": false
   },
   "outputs": [],
   "source": [
    "#  list(df.Title[df['Score'].isna()])\n",
    "## I covnert the series to list to see all the data\n",
    "### I can confirm that those animes are being aired but not finished or haven't even been aired yet just announced"
   ]
  },
  {
   "cell_type": "code",
   "execution_count": 10,
   "metadata": {},
   "outputs": [],
   "source": [
    "## df['Episodes'] = df['Episodes'].fillna(value=\"ZZZZZ\")\n",
    "## df.loc[df.Episodes == \"ZZZZZ\"]\n",
    "## df.loc[df.Episodes == \"ZZZZZ\" ].tail(30)\n",
    "### Nan values on Episodes is because they are currently airing or not aired yet\n",
    "#### Be careful because Boruto and One Piece, very popular animes have Nan on Episode Col.\n",
    "## You can keep the Nan and work with them, after all Episodes is not part of the Features to run the model"
   ]
  },
  {
   "cell_type": "code",
   "execution_count": 11,
   "metadata": {},
   "outputs": [],
   "source": [
    "## So is safe to drop those Nan's (Score, Episodes)\n",
    "\n",
    "df = df.dropna(subset=[\"Score\"])\n",
    "# df = df.dropna(subset=[\"Episodes\"])"
   ]
  },
  {
   "cell_type": "code",
   "execution_count": 12,
   "metadata": {},
   "outputs": [
    {
     "data": {
      "text/plain": [
       "(14562, 28)"
      ]
     },
     "execution_count": 12,
     "metadata": {},
     "output_type": "execute_result"
    }
   ],
   "source": [
    "df.shape"
   ]
  },
  {
   "cell_type": "code",
   "execution_count": 13,
   "metadata": {
    "scrolled": true
   },
   "outputs": [
    {
     "data": {
      "text/plain": [
       "ID                     0\n",
       "Title                  0\n",
       "Synonyms               0\n",
       "Japanese               0\n",
       "English                0\n",
       "Synopsis               0\n",
       "Type                   0\n",
       "Episodes              78\n",
       "Status                 0\n",
       "Start_Aired            0\n",
       "End_Aired              0\n",
       "Premiered              0\n",
       "Broadcast              0\n",
       "Producers              0\n",
       "Licensors              0\n",
       "Studios                0\n",
       "Source                 0\n",
       "Genres                 0\n",
       "Themes                 0\n",
       "Demographics           0\n",
       "Duration_Minutes      14\n",
       "Rating                 0\n",
       "Score                  0\n",
       "Scored_Users           0\n",
       "Ranked              1461\n",
       "Popularity             0\n",
       "Members                0\n",
       "Favorites              0\n",
       "dtype: int64"
      ]
     },
     "execution_count": 13,
     "metadata": {},
     "output_type": "execute_result"
    }
   ],
   "source": [
    "df.isna().sum()\n",
    "## Only left 3 more features to work with their Nan's."
   ]
  },
  {
   "cell_type": "code",
   "execution_count": 14,
   "metadata": {},
   "outputs": [],
   "source": [
    "### It is onlt 14 nan's on Duration_minutes so it won't ruin the dataset. Tho it is safe to drop them too\n",
    "\n",
    "df['Duration_Minutes'] = df['Duration_Minutes'].fillna(value=1)"
   ]
  },
  {
   "cell_type": "code",
   "execution_count": 15,
   "metadata": {},
   "outputs": [],
   "source": [
    "### Proceed to drop useless columns\n",
    "df2 = df[[\"Duration_Minutes\",\"Themes\",\"Genres\",\"Title\",\"English\",\"Rating\",\"Source\",\"Synopsis\",\"Episodes\",\"Premiered\"]]"
   ]
  },
  {
   "cell_type": "code",
   "execution_count": 16,
   "metadata": {
    "scrolled": true
   },
   "outputs": [
    {
     "data": {
      "text/html": [
       "<div>\n",
       "<style scoped>\n",
       "    .dataframe tbody tr th:only-of-type {\n",
       "        vertical-align: middle;\n",
       "    }\n",
       "\n",
       "    .dataframe tbody tr th {\n",
       "        vertical-align: top;\n",
       "    }\n",
       "\n",
       "    .dataframe thead th {\n",
       "        text-align: right;\n",
       "    }\n",
       "</style>\n",
       "<table border=\"1\" class=\"dataframe\">\n",
       "  <thead>\n",
       "    <tr style=\"text-align: right;\">\n",
       "      <th></th>\n",
       "      <th>Duration_Minutes</th>\n",
       "      <th>Themes</th>\n",
       "      <th>Genres</th>\n",
       "      <th>Title</th>\n",
       "      <th>English</th>\n",
       "      <th>Rating</th>\n",
       "      <th>Source</th>\n",
       "      <th>Synopsis</th>\n",
       "      <th>Episodes</th>\n",
       "      <th>Premiered</th>\n",
       "    </tr>\n",
       "  </thead>\n",
       "  <tbody>\n",
       "    <tr>\n",
       "      <th>0</th>\n",
       "      <td>24.0</td>\n",
       "      <td>Gore, Military, Survival</td>\n",
       "      <td>Action, Drama</td>\n",
       "      <td>Shingeki no Kyojin</td>\n",
       "      <td>Attack on Titan</td>\n",
       "      <td>R - 17+ (violence &amp; profanity)</td>\n",
       "      <td>Manga</td>\n",
       "      <td>Centuries ago, mankind was slaughtered to near...</td>\n",
       "      <td>25.0</td>\n",
       "      <td>Spring 2013</td>\n",
       "    </tr>\n",
       "    <tr>\n",
       "      <th>1</th>\n",
       "      <td>23.0</td>\n",
       "      <td>Psychological</td>\n",
       "      <td>Supernatural, Suspense</td>\n",
       "      <td>Death Note</td>\n",
       "      <td>Death Note</td>\n",
       "      <td>R - 17+ (violence &amp; profanity)</td>\n",
       "      <td>Manga</td>\n",
       "      <td>Brutal murders, petty thefts, and senseless vi...</td>\n",
       "      <td>37.0</td>\n",
       "      <td>Fall 2006</td>\n",
       "    </tr>\n",
       "    <tr>\n",
       "      <th>2</th>\n",
       "      <td>24.0</td>\n",
       "      <td>Military</td>\n",
       "      <td>Action, Adventure, Drama, Fantasy</td>\n",
       "      <td>Fullmetal Alchemist: Brotherhood</td>\n",
       "      <td>Fullmetal Alchemist Brotherhood</td>\n",
       "      <td>R - 17+ (violence &amp; profanity)</td>\n",
       "      <td>Manga</td>\n",
       "      <td>After a horrific alchemy experiment goes wrong...</td>\n",
       "      <td>64.0</td>\n",
       "      <td>Spring 2009</td>\n",
       "    </tr>\n",
       "  </tbody>\n",
       "</table>\n",
       "</div>"
      ],
      "text/plain": [
       "   Duration_Minutes                    Themes  \\\n",
       "0              24.0  Gore, Military, Survival   \n",
       "1              23.0             Psychological   \n",
       "2              24.0                  Military   \n",
       "\n",
       "                              Genres                             Title  \\\n",
       "0                      Action, Drama                Shingeki no Kyojin   \n",
       "1             Supernatural, Suspense                        Death Note   \n",
       "2  Action, Adventure, Drama, Fantasy  Fullmetal Alchemist: Brotherhood   \n",
       "\n",
       "                           English                          Rating Source  \\\n",
       "0                  Attack on Titan  R - 17+ (violence & profanity)  Manga   \n",
       "1                       Death Note  R - 17+ (violence & profanity)  Manga   \n",
       "2  Fullmetal Alchemist Brotherhood  R - 17+ (violence & profanity)  Manga   \n",
       "\n",
       "                                            Synopsis  Episodes    Premiered  \n",
       "0  Centuries ago, mankind was slaughtered to near...      25.0  Spring 2013  \n",
       "1  Brutal murders, petty thefts, and senseless vi...      37.0    Fall 2006  \n",
       "2  After a horrific alchemy experiment goes wrong...      64.0  Spring 2009  "
      ]
     },
     "execution_count": 16,
     "metadata": {},
     "output_type": "execute_result"
    }
   ],
   "source": [
    "df2.head(3)"
   ]
  },
  {
   "cell_type": "code",
   "execution_count": 17,
   "metadata": {},
   "outputs": [
    {
     "data": {
      "text/html": [
       "<div>\n",
       "<style scoped>\n",
       "    .dataframe tbody tr th:only-of-type {\n",
       "        vertical-align: middle;\n",
       "    }\n",
       "\n",
       "    .dataframe tbody tr th {\n",
       "        vertical-align: top;\n",
       "    }\n",
       "\n",
       "    .dataframe thead th {\n",
       "        text-align: right;\n",
       "    }\n",
       "</style>\n",
       "<table border=\"1\" class=\"dataframe\">\n",
       "  <thead>\n",
       "    <tr style=\"text-align: right;\">\n",
       "      <th></th>\n",
       "      <th>Duration_Minutes</th>\n",
       "      <th>Themes</th>\n",
       "      <th>Genres</th>\n",
       "      <th>Title</th>\n",
       "      <th>English</th>\n",
       "      <th>Rating</th>\n",
       "      <th>Source</th>\n",
       "      <th>Synopsis</th>\n",
       "      <th>Episodes</th>\n",
       "      <th>Premiered</th>\n",
       "    </tr>\n",
       "  </thead>\n",
       "  <tbody>\n",
       "  </tbody>\n",
       "</table>\n",
       "</div>"
      ],
      "text/plain": [
       "Empty DataFrame\n",
       "Columns: [Duration_Minutes, Themes, Genres, Title, English, Rating, Source, Synopsis, Episodes, Premiered]\n",
       "Index: []"
      ]
     },
     "execution_count": 17,
     "metadata": {},
     "output_type": "execute_result"
    }
   ],
   "source": [
    "df2[df2.duplicated(['Title'])]\n",
    "# No duplicated values"
   ]
  },
  {
   "cell_type": "code",
   "execution_count": 18,
   "metadata": {
    "scrolled": false
   },
   "outputs": [
    {
     "data": {
      "text/plain": [
       "Duration_Minutes     0\n",
       "Themes               0\n",
       "Genres               0\n",
       "Title                0\n",
       "English              0\n",
       "Rating               0\n",
       "Source               0\n",
       "Synopsis             0\n",
       "Episodes            78\n",
       "Premiered            0\n",
       "dtype: int64"
      ]
     },
     "execution_count": 18,
     "metadata": {},
     "output_type": "execute_result"
    }
   ],
   "source": [
    "df2.isna().sum()\n",
    "## Episodes only matters for an easier comprehension of the dataset"
   ]
  },
  {
   "cell_type": "code",
   "execution_count": 19,
   "metadata": {
    "scrolled": true
   },
   "outputs": [
    {
     "data": {
      "text/plain": [
       "Duration_Minutes     0\n",
       "Themes               0\n",
       "Genres               0\n",
       "Title                0\n",
       "English              0\n",
       "Rating               0\n",
       "Source               0\n",
       "Synopsis             0\n",
       "Episodes            78\n",
       "Premiered            0\n",
       "dtype: int64"
      ]
     },
     "execution_count": 19,
     "metadata": {},
     "output_type": "execute_result"
    }
   ],
   "source": [
    "df2.isna().sum()"
   ]
  },
  {
   "cell_type": "code",
   "execution_count": 20,
   "metadata": {},
   "outputs": [
    {
     "name": "stdout",
     "output_type": "stream",
     "text": [
      "Series([], Name: Duration_Minutes, dtype: float64)\n",
      "Series([], Name: Themes, dtype: object)\n",
      "Series([], Name: Genres, dtype: object)\n",
      "Series([], Name: Title, dtype: object)\n",
      "Series([], Name: English, dtype: object)\n",
      "2633     None\n",
      "3604     None\n",
      "4919     None\n",
      "5787     None\n",
      "5835     None\n",
      "         ... \n",
      "14409    None\n",
      "14456    None\n",
      "14565    None\n",
      "14711    None\n",
      "14734    None\n",
      "Name: Rating, Length: 97, dtype: object\n"
     ]
    },
    {
     "name": "stderr",
     "output_type": "stream",
     "text": [
      "C:\\Users\\CLIENTE\\anaconda3\\lib\\site-packages\\pandas\\core\\ops\\array_ops.py:253: FutureWarning: elementwise comparison failed; returning scalar instead, but in the future will perform elementwise comparison\n",
      "  res_values = method(rvalues)\n"
     ]
    }
   ],
   "source": [
    "print(df2.loc[df2.Duration_Minutes == \"None\", \"Duration_Minutes\"])\n",
    "print(df2.loc[df2.Themes == \"None\", \"Themes\"])\n",
    "print(df2.loc[df2.Genres ==\"None\", \"Genres\"])\n",
    "print(df2.loc[df2.Title == \"None\", \"Title\"])\n",
    "print(df2.loc[df2.English == \"None\", \"English\"])\n",
    "print(df2.loc[df2.Rating == \"None\", \"Rating\"])"
   ]
  },
  {
   "cell_type": "markdown",
   "metadata": {},
   "source": [
    "##### is important to know that Duration in Minutes tells a lot about the \"anime\", \"animes\" with less than 10 minutes aren't animes or are anime msuic videos or commercials, some animes last 12 or 11 minutes.\n",
    "So we quickly drop those before continuing"
   ]
  },
  {
   "cell_type": "code",
   "execution_count": 21,
   "metadata": {},
   "outputs": [
    {
     "data": {
      "text/plain": [
       "3963"
      ]
     },
     "execution_count": 21,
     "metadata": {},
     "output_type": "execute_result"
    }
   ],
   "source": [
    "df2.loc[df2.Duration_Minutes < 10 ,\"Duration_Minutes\"].value_counts().sum()"
   ]
  },
  {
   "cell_type": "code",
   "execution_count": 22,
   "metadata": {},
   "outputs": [],
   "source": [
    "df2 = df2.loc[df2.Duration_Minutes > 10]\n",
    "## 3963 to drop"
   ]
  },
  {
   "cell_type": "markdown",
   "metadata": {},
   "source": [
    "# More data exploration and sieving"
   ]
  },
  {
   "cell_type": "code",
   "execution_count": 23,
   "metadata": {},
   "outputs": [
    {
     "data": {
      "text/plain": [
       "(10401, 10)"
      ]
     },
     "execution_count": 23,
     "metadata": {},
     "output_type": "execute_result"
    }
   ],
   "source": [
    "df2.shape"
   ]
  },
  {
   "cell_type": "code",
   "execution_count": 24,
   "metadata": {},
   "outputs": [],
   "source": [
    "#df22 = df2.copy()"
   ]
  },
  {
   "cell_type": "code",
   "execution_count": 25,
   "metadata": {},
   "outputs": [],
   "source": [
    "# df2 = df2.loc[df2.Episodes > 1]"
   ]
  },
  {
   "cell_type": "code",
   "execution_count": 26,
   "metadata": {},
   "outputs": [],
   "source": [
    "#df2.Episodes.value_counts()"
   ]
  },
  {
   "cell_type": "code",
   "execution_count": 27,
   "metadata": {},
   "outputs": [
    {
     "data": {
      "text/html": [
       "<div>\n",
       "<style scoped>\n",
       "    .dataframe tbody tr th:only-of-type {\n",
       "        vertical-align: middle;\n",
       "    }\n",
       "\n",
       "    .dataframe tbody tr th {\n",
       "        vertical-align: top;\n",
       "    }\n",
       "\n",
       "    .dataframe thead th {\n",
       "        text-align: right;\n",
       "    }\n",
       "</style>\n",
       "<table border=\"1\" class=\"dataframe\">\n",
       "  <thead>\n",
       "    <tr style=\"text-align: right;\">\n",
       "      <th></th>\n",
       "      <th>Duration_Minutes</th>\n",
       "      <th>Themes</th>\n",
       "      <th>Genres</th>\n",
       "      <th>Title</th>\n",
       "      <th>English</th>\n",
       "      <th>Rating</th>\n",
       "      <th>Source</th>\n",
       "      <th>Synopsis</th>\n",
       "      <th>Episodes</th>\n",
       "      <th>Premiered</th>\n",
       "    </tr>\n",
       "  </thead>\n",
       "  <tbody>\n",
       "    <tr>\n",
       "      <th>0</th>\n",
       "      <td>24.0</td>\n",
       "      <td>Gore, Military, Survival</td>\n",
       "      <td>Action, Drama</td>\n",
       "      <td>Shingeki no Kyojin</td>\n",
       "      <td>Attack on Titan</td>\n",
       "      <td>R - 17+ (violence &amp; profanity)</td>\n",
       "      <td>Manga</td>\n",
       "      <td>Centuries ago, mankind was slaughtered to near...</td>\n",
       "      <td>25.0</td>\n",
       "      <td>Spring 2013</td>\n",
       "    </tr>\n",
       "    <tr>\n",
       "      <th>1</th>\n",
       "      <td>23.0</td>\n",
       "      <td>Psychological</td>\n",
       "      <td>Supernatural, Suspense</td>\n",
       "      <td>Death Note</td>\n",
       "      <td>Death Note</td>\n",
       "      <td>R - 17+ (violence &amp; profanity)</td>\n",
       "      <td>Manga</td>\n",
       "      <td>Brutal murders, petty thefts, and senseless vi...</td>\n",
       "      <td>37.0</td>\n",
       "      <td>Fall 2006</td>\n",
       "    </tr>\n",
       "    <tr>\n",
       "      <th>2</th>\n",
       "      <td>24.0</td>\n",
       "      <td>Military</td>\n",
       "      <td>Action, Adventure, Drama, Fantasy</td>\n",
       "      <td>Fullmetal Alchemist: Brotherhood</td>\n",
       "      <td>Fullmetal Alchemist Brotherhood</td>\n",
       "      <td>R - 17+ (violence &amp; profanity)</td>\n",
       "      <td>Manga</td>\n",
       "      <td>After a horrific alchemy experiment goes wrong...</td>\n",
       "      <td>64.0</td>\n",
       "      <td>Spring 2009</td>\n",
       "    </tr>\n",
       "    <tr>\n",
       "      <th>3</th>\n",
       "      <td>24.0</td>\n",
       "      <td>Parody, Super Power</td>\n",
       "      <td>Action, Comedy</td>\n",
       "      <td>One Punch Man</td>\n",
       "      <td>One Punch Man</td>\n",
       "      <td>R - 17+ (violence &amp; profanity)</td>\n",
       "      <td>Web manga</td>\n",
       "      <td>The seemingly unimpressive Saitama has a rathe...</td>\n",
       "      <td>12.0</td>\n",
       "      <td>Fall 2015</td>\n",
       "    </tr>\n",
       "    <tr>\n",
       "      <th>4</th>\n",
       "      <td>23.0</td>\n",
       "      <td>Love Polygon, Video Game</td>\n",
       "      <td>Action, Adventure, Fantasy, Romance</td>\n",
       "      <td>Sword Art Online</td>\n",
       "      <td>Sword Art Online</td>\n",
       "      <td>PG-13 - Teens 13 or older</td>\n",
       "      <td>Light novel</td>\n",
       "      <td>Ever since the release of the innovative Nerve...</td>\n",
       "      <td>25.0</td>\n",
       "      <td>Summer 2012</td>\n",
       "    </tr>\n",
       "  </tbody>\n",
       "</table>\n",
       "</div>"
      ],
      "text/plain": [
       "   Duration_Minutes                    Themes  \\\n",
       "0              24.0  Gore, Military, Survival   \n",
       "1              23.0             Psychological   \n",
       "2              24.0                  Military   \n",
       "3              24.0       Parody, Super Power   \n",
       "4              23.0  Love Polygon, Video Game   \n",
       "\n",
       "                                Genres                             Title  \\\n",
       "0                        Action, Drama                Shingeki no Kyojin   \n",
       "1               Supernatural, Suspense                        Death Note   \n",
       "2    Action, Adventure, Drama, Fantasy  Fullmetal Alchemist: Brotherhood   \n",
       "3                       Action, Comedy                     One Punch Man   \n",
       "4  Action, Adventure, Fantasy, Romance                  Sword Art Online   \n",
       "\n",
       "                           English                          Rating  \\\n",
       "0                  Attack on Titan  R - 17+ (violence & profanity)   \n",
       "1                       Death Note  R - 17+ (violence & profanity)   \n",
       "2  Fullmetal Alchemist Brotherhood  R - 17+ (violence & profanity)   \n",
       "3                    One Punch Man  R - 17+ (violence & profanity)   \n",
       "4                 Sword Art Online       PG-13 - Teens 13 or older   \n",
       "\n",
       "        Source                                           Synopsis  Episodes  \\\n",
       "0        Manga  Centuries ago, mankind was slaughtered to near...      25.0   \n",
       "1        Manga  Brutal murders, petty thefts, and senseless vi...      37.0   \n",
       "2        Manga  After a horrific alchemy experiment goes wrong...      64.0   \n",
       "3    Web manga  The seemingly unimpressive Saitama has a rathe...      12.0   \n",
       "4  Light novel  Ever since the release of the innovative Nerve...      25.0   \n",
       "\n",
       "     Premiered  \n",
       "0  Spring 2013  \n",
       "1    Fall 2006  \n",
       "2  Spring 2009  \n",
       "3    Fall 2015  \n",
       "4  Summer 2012  "
      ]
     },
     "execution_count": 27,
     "metadata": {},
     "output_type": "execute_result"
    }
   ],
   "source": [
    "df2.head()"
   ]
  },
  {
   "cell_type": "code",
   "execution_count": 28,
   "metadata": {},
   "outputs": [
    {
     "data": {
      "text/html": [
       "<div>\n",
       "<style scoped>\n",
       "    .dataframe tbody tr th:only-of-type {\n",
       "        vertical-align: middle;\n",
       "    }\n",
       "\n",
       "    .dataframe tbody tr th {\n",
       "        vertical-align: top;\n",
       "    }\n",
       "\n",
       "    .dataframe thead th {\n",
       "        text-align: right;\n",
       "    }\n",
       "</style>\n",
       "<table border=\"1\" class=\"dataframe\">\n",
       "  <thead>\n",
       "    <tr style=\"text-align: right;\">\n",
       "      <th></th>\n",
       "      <th>Duration_Minutes</th>\n",
       "      <th>Themes</th>\n",
       "      <th>Genres</th>\n",
       "      <th>Title</th>\n",
       "      <th>English</th>\n",
       "      <th>Rating</th>\n",
       "      <th>Source</th>\n",
       "      <th>Synopsis</th>\n",
       "      <th>Episodes</th>\n",
       "      <th>Premiered</th>\n",
       "    </tr>\n",
       "  </thead>\n",
       "  <tbody>\n",
       "    <tr>\n",
       "      <th>16714</th>\n",
       "      <td>15.0</td>\n",
       "      <td>Music</td>\n",
       "      <td>Avant Garde</td>\n",
       "      <td>Sanuki Eiga-sai Opening Eizou</td>\n",
       "      <td>Unknown</td>\n",
       "      <td>G - All Ages</td>\n",
       "      <td>Original</td>\n",
       "      <td>Sanuki Film Festival in 2015 and 2016 had open...</td>\n",
       "      <td>2.0</td>\n",
       "      <td>Unknown</td>\n",
       "    </tr>\n",
       "    <tr>\n",
       "      <th>16768</th>\n",
       "      <td>38.0</td>\n",
       "      <td>Music</td>\n",
       "      <td>Unknown</td>\n",
       "      <td>Yanoya</td>\n",
       "      <td>Unknown</td>\n",
       "      <td>G - All Ages</td>\n",
       "      <td>Original</td>\n",
       "      <td>In 2011, Japanese musician Akiko Yano collabor...</td>\n",
       "      <td>1.0</td>\n",
       "      <td>Unknown</td>\n",
       "    </tr>\n",
       "    <tr>\n",
       "      <th>16783</th>\n",
       "      <td>16.0</td>\n",
       "      <td>Music</td>\n",
       "      <td>Unknown</td>\n",
       "      <td>Wego Graphics</td>\n",
       "      <td>WEGO GRAPHICS</td>\n",
       "      <td>G - All Ages</td>\n",
       "      <td>Original</td>\n",
       "      <td>Commercials for the WEGO GRAPHICS brand.</td>\n",
       "      <td>2.0</td>\n",
       "      <td>Unknown</td>\n",
       "    </tr>\n",
       "    <tr>\n",
       "      <th>16812</th>\n",
       "      <td>35.0</td>\n",
       "      <td>Music</td>\n",
       "      <td>Unknown</td>\n",
       "      <td>Hakodate Musical</td>\n",
       "      <td>Hakodate Musical Opening Video</td>\n",
       "      <td>G - All Ages</td>\n",
       "      <td>Original</td>\n",
       "      <td>WOW Inc.'s first architectural project: \"Futur...</td>\n",
       "      <td>1.0</td>\n",
       "      <td>Unknown</td>\n",
       "    </tr>\n",
       "    <tr>\n",
       "      <th>16889</th>\n",
       "      <td>30.0</td>\n",
       "      <td>Mythology, Super Power</td>\n",
       "      <td>Action, Comedy, Supernatural</td>\n",
       "      <td>Shounen Sunday CM: Devil &amp; Devil</td>\n",
       "      <td>Unknown</td>\n",
       "      <td>PG-13 - Teens 13 or older</td>\n",
       "      <td>Manga</td>\n",
       "      <td>Devil &amp; Devil commercial for Shounen Sunday ma...</td>\n",
       "      <td>1.0</td>\n",
       "      <td>Unknown</td>\n",
       "    </tr>\n",
       "    <tr>\n",
       "      <th>16956</th>\n",
       "      <td>13.0</td>\n",
       "      <td>Unknown</td>\n",
       "      <td>Avant Garde, Drama</td>\n",
       "      <td>Scripta Volant</td>\n",
       "      <td>Writings Fly Away</td>\n",
       "      <td>G - All Ages</td>\n",
       "      <td>Book</td>\n",
       "      <td>Graduate animation by Ryo Orikasa, based The H...</td>\n",
       "      <td>1.0</td>\n",
       "      <td>Unknown</td>\n",
       "    </tr>\n",
       "    <tr>\n",
       "      <th>17000</th>\n",
       "      <td>30.0</td>\n",
       "      <td>Historical</td>\n",
       "      <td>Unknown</td>\n",
       "      <td>Hirooka Asako</td>\n",
       "      <td>Unknown</td>\n",
       "      <td>G - All Ages</td>\n",
       "      <td>Original</td>\n",
       "      <td>Commercials explaining the founder of Daido Se...</td>\n",
       "      <td>2.0</td>\n",
       "      <td>Unknown</td>\n",
       "    </tr>\n",
       "    <tr>\n",
       "      <th>17024</th>\n",
       "      <td>30.0</td>\n",
       "      <td>Music, Racing</td>\n",
       "      <td>Unknown</td>\n",
       "      <td>Race Eizou-hen</td>\n",
       "      <td>Unknown</td>\n",
       "      <td>G - All Ages</td>\n",
       "      <td>Original</td>\n",
       "      <td>Advertisements for JRA-VAN's racehorse software.</td>\n",
       "      <td>2.0</td>\n",
       "      <td>Unknown</td>\n",
       "    </tr>\n",
       "    <tr>\n",
       "      <th>17059</th>\n",
       "      <td>15.0</td>\n",
       "      <td>Unknown</td>\n",
       "      <td>Avant Garde</td>\n",
       "      <td>Port of Wormy</td>\n",
       "      <td>Port of Wormy</td>\n",
       "      <td>G - All Ages</td>\n",
       "      <td>Original</td>\n",
       "      <td>A surreal short created by Mirai Mizue.</td>\n",
       "      <td>1.0</td>\n",
       "      <td>Unknown</td>\n",
       "    </tr>\n",
       "    <tr>\n",
       "      <th>17202</th>\n",
       "      <td>30.0</td>\n",
       "      <td>Unknown</td>\n",
       "      <td>Comedy, Supernatural</td>\n",
       "      <td>Shounen Sunday CM: Tuxedo Gin</td>\n",
       "      <td>Unknown</td>\n",
       "      <td>PG-13 - Teens 13 or older</td>\n",
       "      <td>Manga</td>\n",
       "      <td>Tuxedo Gin commercial for Shounen Sunday magaz...</td>\n",
       "      <td>1.0</td>\n",
       "      <td>Unknown</td>\n",
       "    </tr>\n",
       "  </tbody>\n",
       "</table>\n",
       "</div>"
      ],
      "text/plain": [
       "       Duration_Minutes                  Themes                        Genres  \\\n",
       "16714              15.0                   Music                   Avant Garde   \n",
       "16768              38.0                   Music                       Unknown   \n",
       "16783              16.0                   Music                       Unknown   \n",
       "16812              35.0                   Music                       Unknown   \n",
       "16889              30.0  Mythology, Super Power  Action, Comedy, Supernatural   \n",
       "16956              13.0                 Unknown            Avant Garde, Drama   \n",
       "17000              30.0              Historical                       Unknown   \n",
       "17024              30.0           Music, Racing                       Unknown   \n",
       "17059              15.0                 Unknown                   Avant Garde   \n",
       "17202              30.0                 Unknown          Comedy, Supernatural   \n",
       "\n",
       "                                  Title                         English  \\\n",
       "16714     Sanuki Eiga-sai Opening Eizou                         Unknown   \n",
       "16768                            Yanoya                         Unknown   \n",
       "16783                     Wego Graphics                   WEGO GRAPHICS   \n",
       "16812                  Hakodate Musical  Hakodate Musical Opening Video   \n",
       "16889  Shounen Sunday CM: Devil & Devil                         Unknown   \n",
       "16956                    Scripta Volant               Writings Fly Away   \n",
       "17000                     Hirooka Asako                         Unknown   \n",
       "17024                    Race Eizou-hen                         Unknown   \n",
       "17059                     Port of Wormy                   Port of Wormy   \n",
       "17202     Shounen Sunday CM: Tuxedo Gin                         Unknown   \n",
       "\n",
       "                          Rating    Source  \\\n",
       "16714               G - All Ages  Original   \n",
       "16768               G - All Ages  Original   \n",
       "16783               G - All Ages  Original   \n",
       "16812               G - All Ages  Original   \n",
       "16889  PG-13 - Teens 13 or older     Manga   \n",
       "16956               G - All Ages      Book   \n",
       "17000               G - All Ages  Original   \n",
       "17024               G - All Ages  Original   \n",
       "17059               G - All Ages  Original   \n",
       "17202  PG-13 - Teens 13 or older     Manga   \n",
       "\n",
       "                                                Synopsis  Episodes Premiered  \n",
       "16714  Sanuki Film Festival in 2015 and 2016 had open...       2.0   Unknown  \n",
       "16768  In 2011, Japanese musician Akiko Yano collabor...       1.0   Unknown  \n",
       "16783           Commercials for the WEGO GRAPHICS brand.       2.0   Unknown  \n",
       "16812  WOW Inc.'s first architectural project: \"Futur...       1.0   Unknown  \n",
       "16889  Devil & Devil commercial for Shounen Sunday ma...       1.0   Unknown  \n",
       "16956  Graduate animation by Ryo Orikasa, based The H...       1.0   Unknown  \n",
       "17000  Commercials explaining the founder of Daido Se...       2.0   Unknown  \n",
       "17024   Advertisements for JRA-VAN's racehorse software.       2.0   Unknown  \n",
       "17059            A surreal short created by Mirai Mizue.       1.0   Unknown  \n",
       "17202  Tuxedo Gin commercial for Shounen Sunday magaz...       1.0   Unknown  "
      ]
     },
     "execution_count": 28,
     "metadata": {},
     "output_type": "execute_result"
    }
   ],
   "source": [
    "df2.tail(10)"
   ]
  },
  {
   "cell_type": "code",
   "execution_count": 29,
   "metadata": {},
   "outputs": [],
   "source": [
    "### Seems like Premeired\n",
    "### 3644 Unknowns in premeir are the same as 3644 NONE values in the SPLITTED PREMIER COL"
   ]
  },
  {
   "cell_type": "code",
   "execution_count": 30,
   "metadata": {},
   "outputs": [
    {
     "name": "stdout",
     "output_type": "stream",
     "text": [
      "Unknown    6684\n",
      "Name: Premiered, dtype: int64\n"
     ]
    }
   ],
   "source": [
    "print(df2.loc[df2.Premiered == \"Unknown\", \"Premiered\"].value_counts())"
   ]
  },
  {
   "cell_type": "code",
   "execution_count": 31,
   "metadata": {},
   "outputs": [
    {
     "data": {
      "text/plain": [
       "(10401, 10)"
      ]
     },
     "execution_count": 31,
     "metadata": {},
     "output_type": "execute_result"
    }
   ],
   "source": [
    "df2.shape"
   ]
  },
  {
   "cell_type": "code",
   "execution_count": null,
   "metadata": {},
   "outputs": [],
   "source": []
  },
  {
   "cell_type": "code",
   "execution_count": 32,
   "metadata": {},
   "outputs": [],
   "source": [
    "df2[\"Synopsis\"] = df2[\"Synopsis\"].str.lower()\n",
    "df2[\"Rating\"] = df2[\"Rating\"].str.lower()"
   ]
  },
  {
   "cell_type": "code",
   "execution_count": 33,
   "metadata": {},
   "outputs": [],
   "source": [
    "df2 = df2[df2[\"Synopsis\"].str.contains(\"commercial\",\"commercials\")==False]\n",
    "df2 = df2[df2[\"Synopsis\"].str.contains(\"commerials\")==False]\n",
    "df2 = df2[df2[\"Synopsis\"].str.contains(\"music video\",\"music videos\")==False]\n",
    "df2 = df2[df2[\"Synopsis\"].str.contains(\"stop-motion\",\"advertisements\")==False]\n",
    "df2 = df2[df2[\"Synopsis\"].str.contains(\"advertisement\")==False]\n",
    "df2 = df2[df2[\"Rating\"].str.contains(\"hentai\")==False] \n",
    "### Just remember that Ratings for CHILDREN have popular shows like Pokemon, cardcaptor, digimon on it, you can keep\n",
    "### them, after all it won't change the model too much\n",
    "### df2 = df2[df2[\"Rating\"].str.contains(\"children\")==False]"
   ]
  },
  {
   "cell_type": "code",
   "execution_count": 34,
   "metadata": {},
   "outputs": [
    {
     "data": {
      "text/plain": [
       "(8889, 10)"
      ]
     },
     "execution_count": 34,
     "metadata": {},
     "output_type": "execute_result"
    }
   ],
   "source": [
    "df2.shape"
   ]
  },
  {
   "cell_type": "code",
   "execution_count": 35,
   "metadata": {},
   "outputs": [],
   "source": [
    "## Drop the Unknown values based on Premiered, \n",
    "## after seeing that the Anime Titles in those rows are not animes or they have sexually explicit content so it is safe to drop \n",
    "## those rows"
   ]
  },
  {
   "cell_type": "code",
   "execution_count": 36,
   "metadata": {},
   "outputs": [],
   "source": [
    "df2.loc[df2.Premiered == \"Unknown\", \"Premiered\"] = np.nan"
   ]
  },
  {
   "cell_type": "code",
   "execution_count": 37,
   "metadata": {},
   "outputs": [
    {
     "data": {
      "text/plain": [
       "Duration_Minutes       0\n",
       "Themes                 0\n",
       "Genres                 0\n",
       "Title                  0\n",
       "English                0\n",
       "Rating                 0\n",
       "Source                 0\n",
       "Synopsis               0\n",
       "Episodes              27\n",
       "Premiered           5178\n",
       "dtype: int64"
      ]
     },
     "execution_count": 37,
     "metadata": {},
     "output_type": "execute_result"
    }
   ],
   "source": [
    "df2.isna().sum()"
   ]
  },
  {
   "cell_type": "code",
   "execution_count": 38,
   "metadata": {},
   "outputs": [],
   "source": [
    "df2 = df2.dropna(subset=[\"Premiered\"])"
   ]
  },
  {
   "cell_type": "code",
   "execution_count": 39,
   "metadata": {},
   "outputs": [
    {
     "data": {
      "text/plain": [
       "(3711, 10)"
      ]
     },
     "execution_count": 39,
     "metadata": {},
     "output_type": "execute_result"
    }
   ],
   "source": [
    "df2.shape"
   ]
  },
  {
   "cell_type": "code",
   "execution_count": 40,
   "metadata": {},
   "outputs": [
    {
     "name": "stdout",
     "output_type": "stream",
     "text": [
      "pg-13 - teens 13 or older         2163\n",
      "g - all ages                       501\n",
      "r - 17+ (violence & profanity)     498\n",
      "pg - children                      302\n",
      "r+ - mild nudity                   228\n",
      "none                                19\n",
      "Name: Rating, dtype: int64\n"
     ]
    }
   ],
   "source": [
    "L = [\"Rating\"]\n",
    "for x in L:\n",
    "    print(df2[x].value_counts())\n"
   ]
  },
  {
   "cell_type": "code",
   "execution_count": 41,
   "metadata": {},
   "outputs": [],
   "source": [
    "df44 = df2['Premiered'].str.split(' ', expand = True)"
   ]
  },
  {
   "cell_type": "code",
   "execution_count": 42,
   "metadata": {},
   "outputs": [],
   "source": [
    "\n",
    "df44.rename(columns={ df44.columns[1]: \"Year\", df44.columns[0]: \"Season\"}, inplace = True)\n",
    "\n",
    "data_types_dict = {'Year': float,\n",
    "                                      }\n",
    "df44 = df44.astype(data_types_dict)\n",
    "df44 = df44[[\"Year\"]]\n",
    "df44 = df44.sort_values(by='Year',ascending=False)"
   ]
  },
  {
   "cell_type": "code",
   "execution_count": 43,
   "metadata": {},
   "outputs": [],
   "source": [
    "df22 = pd.concat([df44,df2],axis = 1)"
   ]
  },
  {
   "cell_type": "code",
   "execution_count": 44,
   "metadata": {},
   "outputs": [
    {
     "data": {
      "text/plain": [
       "Year                float64\n",
       "Duration_Minutes    float64\n",
       "Themes               object\n",
       "Genres               object\n",
       "Title                object\n",
       "English              object\n",
       "Rating               object\n",
       "Source               object\n",
       "Synopsis             object\n",
       "Episodes            float64\n",
       "Premiered            object\n",
       "dtype: object"
      ]
     },
     "execution_count": 44,
     "metadata": {},
     "output_type": "execute_result"
    }
   ],
   "source": [
    "df22.dtypes"
   ]
  },
  {
   "cell_type": "code",
   "execution_count": 45,
   "metadata": {},
   "outputs": [
    {
     "name": "stdout",
     "output_type": "stream",
     "text": [
      "38\n"
     ]
    }
   ],
   "source": [
    "print(df22.loc[df22.Year < 1970 , \"Year\"].value_counts().sum())"
   ]
  },
  {
   "cell_type": "code",
   "execution_count": 46,
   "metadata": {},
   "outputs": [],
   "source": [
    "df22 = df22.loc[df22.Year > 1990 ]"
   ]
  },
  {
   "cell_type": "code",
   "execution_count": 47,
   "metadata": {},
   "outputs": [
    {
     "data": {
      "text/html": [
       "<div>\n",
       "<style scoped>\n",
       "    .dataframe tbody tr th:only-of-type {\n",
       "        vertical-align: middle;\n",
       "    }\n",
       "\n",
       "    .dataframe tbody tr th {\n",
       "        vertical-align: top;\n",
       "    }\n",
       "\n",
       "    .dataframe thead th {\n",
       "        text-align: right;\n",
       "    }\n",
       "</style>\n",
       "<table border=\"1\" class=\"dataframe\">\n",
       "  <thead>\n",
       "    <tr style=\"text-align: right;\">\n",
       "      <th></th>\n",
       "      <th>Year</th>\n",
       "      <th>Duration_Minutes</th>\n",
       "      <th>Themes</th>\n",
       "      <th>Genres</th>\n",
       "      <th>Title</th>\n",
       "      <th>English</th>\n",
       "      <th>Rating</th>\n",
       "      <th>Source</th>\n",
       "      <th>Synopsis</th>\n",
       "      <th>Episodes</th>\n",
       "      <th>Premiered</th>\n",
       "    </tr>\n",
       "  </thead>\n",
       "  <tbody>\n",
       "    <tr>\n",
       "      <th>0</th>\n",
       "      <td>2013.0</td>\n",
       "      <td>24.0</td>\n",
       "      <td>Gore, Military, Survival</td>\n",
       "      <td>Action, Drama</td>\n",
       "      <td>Shingeki no Kyojin</td>\n",
       "      <td>Attack on Titan</td>\n",
       "      <td>r - 17+ (violence &amp; profanity)</td>\n",
       "      <td>Manga</td>\n",
       "      <td>centuries ago, mankind was slaughtered to near...</td>\n",
       "      <td>25.0</td>\n",
       "      <td>Spring 2013</td>\n",
       "    </tr>\n",
       "    <tr>\n",
       "      <th>1</th>\n",
       "      <td>2006.0</td>\n",
       "      <td>23.0</td>\n",
       "      <td>Psychological</td>\n",
       "      <td>Supernatural, Suspense</td>\n",
       "      <td>Death Note</td>\n",
       "      <td>Death Note</td>\n",
       "      <td>r - 17+ (violence &amp; profanity)</td>\n",
       "      <td>Manga</td>\n",
       "      <td>brutal murders, petty thefts, and senseless vi...</td>\n",
       "      <td>37.0</td>\n",
       "      <td>Fall 2006</td>\n",
       "    </tr>\n",
       "    <tr>\n",
       "      <th>2</th>\n",
       "      <td>2009.0</td>\n",
       "      <td>24.0</td>\n",
       "      <td>Military</td>\n",
       "      <td>Action, Adventure, Drama, Fantasy</td>\n",
       "      <td>Fullmetal Alchemist: Brotherhood</td>\n",
       "      <td>Fullmetal Alchemist Brotherhood</td>\n",
       "      <td>r - 17+ (violence &amp; profanity)</td>\n",
       "      <td>Manga</td>\n",
       "      <td>after a horrific alchemy experiment goes wrong...</td>\n",
       "      <td>64.0</td>\n",
       "      <td>Spring 2009</td>\n",
       "    </tr>\n",
       "    <tr>\n",
       "      <th>3</th>\n",
       "      <td>2015.0</td>\n",
       "      <td>24.0</td>\n",
       "      <td>Parody, Super Power</td>\n",
       "      <td>Action, Comedy</td>\n",
       "      <td>One Punch Man</td>\n",
       "      <td>One Punch Man</td>\n",
       "      <td>r - 17+ (violence &amp; profanity)</td>\n",
       "      <td>Web manga</td>\n",
       "      <td>the seemingly unimpressive saitama has a rathe...</td>\n",
       "      <td>12.0</td>\n",
       "      <td>Fall 2015</td>\n",
       "    </tr>\n",
       "    <tr>\n",
       "      <th>4</th>\n",
       "      <td>2012.0</td>\n",
       "      <td>23.0</td>\n",
       "      <td>Love Polygon, Video Game</td>\n",
       "      <td>Action, Adventure, Fantasy, Romance</td>\n",
       "      <td>Sword Art Online</td>\n",
       "      <td>Sword Art Online</td>\n",
       "      <td>pg-13 - teens 13 or older</td>\n",
       "      <td>Light novel</td>\n",
       "      <td>ever since the release of the innovative nerve...</td>\n",
       "      <td>25.0</td>\n",
       "      <td>Summer 2012</td>\n",
       "    </tr>\n",
       "  </tbody>\n",
       "</table>\n",
       "</div>"
      ],
      "text/plain": [
       "     Year  Duration_Minutes                    Themes  \\\n",
       "0  2013.0              24.0  Gore, Military, Survival   \n",
       "1  2006.0              23.0             Psychological   \n",
       "2  2009.0              24.0                  Military   \n",
       "3  2015.0              24.0       Parody, Super Power   \n",
       "4  2012.0              23.0  Love Polygon, Video Game   \n",
       "\n",
       "                                Genres                             Title  \\\n",
       "0                        Action, Drama                Shingeki no Kyojin   \n",
       "1               Supernatural, Suspense                        Death Note   \n",
       "2    Action, Adventure, Drama, Fantasy  Fullmetal Alchemist: Brotherhood   \n",
       "3                       Action, Comedy                     One Punch Man   \n",
       "4  Action, Adventure, Fantasy, Romance                  Sword Art Online   \n",
       "\n",
       "                           English                          Rating  \\\n",
       "0                  Attack on Titan  r - 17+ (violence & profanity)   \n",
       "1                       Death Note  r - 17+ (violence & profanity)   \n",
       "2  Fullmetal Alchemist Brotherhood  r - 17+ (violence & profanity)   \n",
       "3                    One Punch Man  r - 17+ (violence & profanity)   \n",
       "4                 Sword Art Online       pg-13 - teens 13 or older   \n",
       "\n",
       "        Source                                           Synopsis  Episodes  \\\n",
       "0        Manga  centuries ago, mankind was slaughtered to near...      25.0   \n",
       "1        Manga  brutal murders, petty thefts, and senseless vi...      37.0   \n",
       "2        Manga  after a horrific alchemy experiment goes wrong...      64.0   \n",
       "3    Web manga  the seemingly unimpressive saitama has a rathe...      12.0   \n",
       "4  Light novel  ever since the release of the innovative nerve...      25.0   \n",
       "\n",
       "     Premiered  \n",
       "0  Spring 2013  \n",
       "1    Fall 2006  \n",
       "2  Spring 2009  \n",
       "3    Fall 2015  \n",
       "4  Summer 2012  "
      ]
     },
     "execution_count": 47,
     "metadata": {},
     "output_type": "execute_result"
    }
   ],
   "source": [
    "df22.head()"
   ]
  },
  {
   "cell_type": "code",
   "execution_count": 48,
   "metadata": {},
   "outputs": [
    {
     "data": {
      "text/plain": [
       "(3241, 11)"
      ]
     },
     "execution_count": 48,
     "metadata": {},
     "output_type": "execute_result"
    }
   ],
   "source": [
    "df22.shape"
   ]
  },
  {
   "cell_type": "code",
   "execution_count": 49,
   "metadata": {},
   "outputs": [],
   "source": [
    "df3 = df22.copy()"
   ]
  },
  {
   "cell_type": "markdown",
   "metadata": {},
   "source": [
    "### Now we work with df3"
   ]
  },
  {
   "cell_type": "code",
   "execution_count": 50,
   "metadata": {},
   "outputs": [
    {
     "data": {
      "text/html": [
       "<div>\n",
       "<style scoped>\n",
       "    .dataframe tbody tr th:only-of-type {\n",
       "        vertical-align: middle;\n",
       "    }\n",
       "\n",
       "    .dataframe tbody tr th {\n",
       "        vertical-align: top;\n",
       "    }\n",
       "\n",
       "    .dataframe thead th {\n",
       "        text-align: right;\n",
       "    }\n",
       "</style>\n",
       "<table border=\"1\" class=\"dataframe\">\n",
       "  <thead>\n",
       "    <tr style=\"text-align: right;\">\n",
       "      <th></th>\n",
       "      <th>Year</th>\n",
       "      <th>Duration_Minutes</th>\n",
       "      <th>Themes</th>\n",
       "      <th>Genres</th>\n",
       "      <th>Title</th>\n",
       "      <th>English</th>\n",
       "      <th>Rating</th>\n",
       "      <th>Source</th>\n",
       "      <th>Synopsis</th>\n",
       "      <th>Episodes</th>\n",
       "      <th>Premiered</th>\n",
       "    </tr>\n",
       "  </thead>\n",
       "  <tbody>\n",
       "    <tr>\n",
       "      <th>15070</th>\n",
       "      <td>2014.0</td>\n",
       "      <td>23.0</td>\n",
       "      <td>Strategy Game</td>\n",
       "      <td>Fantasy</td>\n",
       "      <td>Huoli Shaonian Wang zhi Chuanqi Zaixian</td>\n",
       "      <td>Blazing Teens 5 Legendary Warriors</td>\n",
       "      <td>g - all ages</td>\n",
       "      <td>Original</td>\n",
       "      <td>the 3rd huoli shaonian wang animated season. i...</td>\n",
       "      <td>40.0</td>\n",
       "      <td>Fall 2014</td>\n",
       "    </tr>\n",
       "    <tr>\n",
       "      <th>15309</th>\n",
       "      <td>2010.0</td>\n",
       "      <td>11.0</td>\n",
       "      <td>Racing</td>\n",
       "      <td>Unknown</td>\n",
       "      <td>Kkoma Bus Tayo</td>\n",
       "      <td>Tayo the Little Bus Season 1</td>\n",
       "      <td>g - all ages</td>\n",
       "      <td>Original</td>\n",
       "      <td>tayo the little bus is about exciting adventur...</td>\n",
       "      <td>26.0</td>\n",
       "      <td>Summer 2010</td>\n",
       "    </tr>\n",
       "    <tr>\n",
       "      <th>15454</th>\n",
       "      <td>2013.0</td>\n",
       "      <td>12.0</td>\n",
       "      <td>Racing</td>\n",
       "      <td>Adventure</td>\n",
       "      <td>Chuldong! Super Wings</td>\n",
       "      <td>Super Wings</td>\n",
       "      <td>g - all ages</td>\n",
       "      <td>Original</td>\n",
       "      <td>super wings follows the adventures of an adora...</td>\n",
       "      <td>52.0</td>\n",
       "      <td>Fall 2013</td>\n",
       "    </tr>\n",
       "  </tbody>\n",
       "</table>\n",
       "</div>"
      ],
      "text/plain": [
       "         Year  Duration_Minutes         Themes     Genres  \\\n",
       "15070  2014.0              23.0  Strategy Game    Fantasy   \n",
       "15309  2010.0              11.0         Racing    Unknown   \n",
       "15454  2013.0              12.0         Racing  Adventure   \n",
       "\n",
       "                                         Title  \\\n",
       "15070  Huoli Shaonian Wang zhi Chuanqi Zaixian   \n",
       "15309                           Kkoma Bus Tayo   \n",
       "15454                    Chuldong! Super Wings   \n",
       "\n",
       "                                  English        Rating    Source  \\\n",
       "15070  Blazing Teens 5 Legendary Warriors  g - all ages  Original   \n",
       "15309        Tayo the Little Bus Season 1  g - all ages  Original   \n",
       "15454                         Super Wings  g - all ages  Original   \n",
       "\n",
       "                                                Synopsis  Episodes  \\\n",
       "15070  the 3rd huoli shaonian wang animated season. i...      40.0   \n",
       "15309  tayo the little bus is about exciting adventur...      26.0   \n",
       "15454  super wings follows the adventures of an adora...      52.0   \n",
       "\n",
       "         Premiered  \n",
       "15070    Fall 2014  \n",
       "15309  Summer 2010  \n",
       "15454    Fall 2013  "
      ]
     },
     "execution_count": 50,
     "metadata": {},
     "output_type": "execute_result"
    }
   ],
   "source": [
    "df3.tail(3)"
   ]
  },
  {
   "cell_type": "code",
   "execution_count": 51,
   "metadata": {},
   "outputs": [],
   "source": [
    "### In Rating we have an issue with None values, we'll change the None by Unknown\n",
    "df3.loc[df3.Rating == \"None\", \"Rating\"] = \"Unknown\""
   ]
  },
  {
   "cell_type": "code",
   "execution_count": 52,
   "metadata": {},
   "outputs": [
    {
     "name": "stdout",
     "output_type": "stream",
     "text": [
      "Series([], Name: Rating, dtype: object)\n"
     ]
    }
   ],
   "source": [
    "print(df3.loc[df3.Rating == \"None\", \"Rating\"])"
   ]
  },
  {
   "cell_type": "code",
   "execution_count": 53,
   "metadata": {},
   "outputs": [
    {
     "name": "stdout",
     "output_type": "stream",
     "text": [
      "Comedy                                       148\n",
      "Comedy, Slice of Life                        105\n",
      "Action, Sci-Fi                                99\n",
      "Unknown                                       93\n",
      "Comedy, Romance                               88\n",
      "                                            ... \n",
      "Action, Comedy, Fantasy, Sci-Fi                1\n",
      "Adventure, Comedy, Romance, Sci-Fi             1\n",
      "Adventure, Fantasy, Mystery, Sci-Fi            1\n",
      "Adventure, Comedy, Drama, Mystery, Sci-Fi      1\n",
      "Drama, Fantasy, Supernatural, Suspense         1\n",
      "Name: Genres, Length: 530, dtype: int64\n",
      "Unknown                                               810\n",
      "School                                                210\n",
      "Mecha                                                 129\n",
      "Historical                                             76\n",
      "Super Power                                            76\n",
      "                                                     ... \n",
      "Mecha, Military, Psychological, Space                   1\n",
      "Isekai, Military, Strategy Game                         1\n",
      "Adult Cast, Historical, Isekai, Samurai                 1\n",
      "Gore, High Stakes Game, Strategy Game, Super Power      1\n",
      "Mecha, Parody                                           1\n",
      "Name: Themes, Length: 452, dtype: int64\n",
      "Manga           1216\n",
      "Original         694\n",
      "Light novel      384\n",
      "Game             234\n",
      "Visual novel     154\n",
      "Unknown          135\n",
      "Novel             95\n",
      "Other             94\n",
      "4-koma manga      72\n",
      "Web manga         61\n",
      "Card game         42\n",
      "Mixed media       31\n",
      "Book              17\n",
      "Music              6\n",
      "Picture book       4\n",
      "Radio              2\n",
      "Name: Source, dtype: int64\n",
      "pg-13 - teens 13 or older         1984\n",
      "r - 17+ (violence & profanity)     487\n",
      "g - all ages                       292\n",
      "pg - children                      252\n",
      "r+ - mild nudity                   213\n",
      "none                                13\n",
      "Name: Rating, dtype: int64\n"
     ]
    }
   ],
   "source": [
    "L = [\"Genres\",\"Themes\",\"Source\",\"Rating\"]\n",
    "for x in L:\n",
    "    print(df3[x].value_counts())"
   ]
  },
  {
   "cell_type": "code",
   "execution_count": 54,
   "metadata": {},
   "outputs": [
    {
     "data": {
      "text/plain": [
       "(3241, 11)"
      ]
     },
     "execution_count": 54,
     "metadata": {},
     "output_type": "execute_result"
    }
   ],
   "source": [
    "df3.shape"
   ]
  },
  {
   "cell_type": "code",
   "execution_count": 55,
   "metadata": {},
   "outputs": [],
   "source": [
    "# df2.loc[df2.Theme == \"Unknown\", \"Theme\"] = np.nan\n",
    "\n",
    "##### Many Unknows so we have to apply Nan to them and then add proportionally some random Themes on the Nan values\n",
    "######   \n",
    "#### Then convert the remaining Nan in unknown and drop them with genre using .ILOC[] "
   ]
  },
  {
   "cell_type": "code",
   "execution_count": 56,
   "metadata": {},
   "outputs": [],
   "source": [
    "df3.loc[df3.Themes == \"Unknown\", \"Themes\"] = np.nan"
   ]
  },
  {
   "cell_type": "code",
   "execution_count": 57,
   "metadata": {},
   "outputs": [
    {
     "data": {
      "text/plain": [
       "Year                  0\n",
       "Duration_Minutes      0\n",
       "Themes              810\n",
       "Genres                0\n",
       "Title                 0\n",
       "English               0\n",
       "Rating                0\n",
       "Source                0\n",
       "Synopsis              0\n",
       "Episodes             15\n",
       "Premiered             0\n",
       "dtype: int64"
      ]
     },
     "execution_count": 57,
     "metadata": {},
     "output_type": "execute_result"
    }
   ],
   "source": [
    "df3.isna().sum()"
   ]
  },
  {
   "cell_type": "code",
   "execution_count": 58,
   "metadata": {},
   "outputs": [],
   "source": [
    "x1 = df3[\"Themes\"].value_counts()"
   ]
  },
  {
   "cell_type": "code",
   "execution_count": 59,
   "metadata": {},
   "outputs": [
    {
     "data": {
      "text/plain": [
       "(3241, 11)"
      ]
     },
     "execution_count": 59,
     "metadata": {},
     "output_type": "execute_result"
    }
   ],
   "source": [
    "df3.shape"
   ]
  },
  {
   "cell_type": "code",
   "execution_count": 60,
   "metadata": {},
   "outputs": [],
   "source": [
    "                  ##(SHAPE - THEME)\n",
    "\n",
    "lista2 = []\n",
    "for x in x1:\n",
    "    lista2.append(x/(3038-734))   \n",
    "    \n",
    "lista3 = []\n",
    "for x in lista2:\n",
    "    lista3.append(x*3038)"
   ]
  },
  {
   "cell_type": "code",
   "execution_count": 61,
   "metadata": {},
   "outputs": [],
   "source": [
    "#lista2"
   ]
  },
  {
   "cell_type": "code",
   "execution_count": 62,
   "metadata": {},
   "outputs": [
    {
     "name": "stdout",
     "output_type": "stream",
     "text": [
      "3205.4592013888473\n"
     ]
    }
   ],
   "source": [
    "y = 0\n",
    "for x in lista3:\n",
    "    y = y + x\n",
    "print(y)"
   ]
  },
  {
   "cell_type": "code",
   "execution_count": 63,
   "metadata": {},
   "outputs": [
    {
     "data": {
      "text/plain": [
       "451"
      ]
     },
     "execution_count": 63,
     "metadata": {},
     "output_type": "execute_result"
    }
   ],
   "source": [
    "O_dfG = pd.DataFrame(df3[\"Themes\"].value_counts())\n",
    "\n",
    "values_genres = list(O_dfG.index)\n",
    "\n",
    "len(values_genres)\n"
   ]
  },
  {
   "cell_type": "code",
   "execution_count": 64,
   "metadata": {},
   "outputs": [
    {
     "data": {
      "text/plain": [
       "True"
      ]
     },
     "execution_count": 64,
     "metadata": {},
     "output_type": "execute_result"
    }
   ],
   "source": [
    "len(lista3) == len(values_genres)"
   ]
  },
  {
   "cell_type": "code",
   "execution_count": 65,
   "metadata": {},
   "outputs": [],
   "source": [
    "import math"
   ]
  },
  {
   "cell_type": "code",
   "execution_count": 66,
   "metadata": {},
   "outputs": [],
   "source": [
    "# from sklearn.utils import shuffle\n",
    "# df3=shuffle(df3)\n",
    "\n",
    "# I shuffle the data for the next step, so we have Themes randomly and proportionally divided\n",
    "## Tho it is really not necessary it wouldn't change much the dataset if we didnt' apply apply it."
   ]
  },
  {
   "cell_type": "code",
   "execution_count": 67,
   "metadata": {},
   "outputs": [],
   "source": [
    "for x, limite in zip(values_genres, lista3): \n",
    "    values = {\"Themes\": x}\n",
    "    limite = limite * .01\n",
    "    limite = math.ceil(limite)\n",
    "    df3 = df3.fillna(value=values, limit=limite)"
   ]
  },
  {
   "cell_type": "code",
   "execution_count": 68,
   "metadata": {},
   "outputs": [
    {
     "name": "stdout",
     "output_type": "stream",
     "text": [
      "Year                  0\n",
      "Duration_Minutes      0\n",
      "Themes              354\n",
      "Genres                0\n",
      "Title                 0\n",
      "English               0\n",
      "Rating                0\n",
      "Source                0\n",
      "Synopsis              0\n",
      "Episodes             15\n",
      "Premiered             0\n",
      "dtype: int64\n"
     ]
    }
   ],
   "source": [
    "print(df3.isna().sum())"
   ]
  },
  {
   "cell_type": "code",
   "execution_count": 69,
   "metadata": {},
   "outputs": [
    {
     "data": {
      "text/plain": [
       "Unknown                                           354\n",
       "School                                            213\n",
       "Mecha                                             131\n",
       "Super Power                                        78\n",
       "Historical                                         78\n",
       "                                                 ... \n",
       "Mecha, School, Strategy Game                        2\n",
       "Adult Cast, Gore, Organized Crime, Super Power      2\n",
       "Gore, High Stakes Game, Survival                    2\n",
       "Organized Crime, Super Power                        2\n",
       "Mecha, Parody                                       2\n",
       "Name: Themes, Length: 452, dtype: int64"
      ]
     },
     "execution_count": 69,
     "metadata": {},
     "output_type": "execute_result"
    }
   ],
   "source": [
    "values = {\"Themes\": \"Unknown\"}\n",
    "\n",
    "df3 = df3.fillna(value=values)\n",
    "df3[\"Themes\"].value_counts()"
   ]
  },
  {
   "cell_type": "code",
   "execution_count": 70,
   "metadata": {},
   "outputs": [],
   "source": [
    "## Now is time to drop Unknowns\n",
    "## in order to drop them we need to convert Unknown to ZZZZ because is easier\n",
    "df3['Themes'] = df3['Themes'].str.replace('Unknown', 'ZZZZ', regex=True).str.strip()"
   ]
  },
  {
   "cell_type": "code",
   "execution_count": 71,
   "metadata": {},
   "outputs": [
    {
     "data": {
      "text/html": [
       "<div>\n",
       "<style scoped>\n",
       "    .dataframe tbody tr th:only-of-type {\n",
       "        vertical-align: middle;\n",
       "    }\n",
       "\n",
       "    .dataframe tbody tr th {\n",
       "        vertical-align: top;\n",
       "    }\n",
       "\n",
       "    .dataframe thead th {\n",
       "        text-align: right;\n",
       "    }\n",
       "</style>\n",
       "<table border=\"1\" class=\"dataframe\">\n",
       "  <thead>\n",
       "    <tr style=\"text-align: right;\">\n",
       "      <th></th>\n",
       "      <th>Year</th>\n",
       "      <th>Duration_Minutes</th>\n",
       "      <th>Themes</th>\n",
       "      <th>Genres</th>\n",
       "      <th>Title</th>\n",
       "      <th>English</th>\n",
       "      <th>Rating</th>\n",
       "      <th>Source</th>\n",
       "      <th>Synopsis</th>\n",
       "      <th>Episodes</th>\n",
       "      <th>Premiered</th>\n",
       "    </tr>\n",
       "  </thead>\n",
       "  <tbody>\n",
       "    <tr>\n",
       "      <th>8327</th>\n",
       "      <td>2017.0</td>\n",
       "      <td>23.0</td>\n",
       "      <td>Strategy Game</td>\n",
       "      <td>Unknown</td>\n",
       "      <td>Future Card Buddyfight Battsu</td>\n",
       "      <td>Future Card Buddyfight X</td>\n",
       "      <td>pg - children</td>\n",
       "      <td>Card game</td>\n",
       "      <td>the fourth season of future card buddyfight.</td>\n",
       "      <td>52.0</td>\n",
       "      <td>Spring 2017</td>\n",
       "    </tr>\n",
       "    <tr>\n",
       "      <th>8694</th>\n",
       "      <td>2008.0</td>\n",
       "      <td>24.0</td>\n",
       "      <td>Strategy Game</td>\n",
       "      <td>Unknown</td>\n",
       "      <td>Battle Spirits: Shounen Toppa Bashin</td>\n",
       "      <td>Unknown</td>\n",
       "      <td>pg - children</td>\n",
       "      <td>Card game</td>\n",
       "      <td>energetic and thrill-seeking sixth grader topp...</td>\n",
       "      <td>50.0</td>\n",
       "      <td>Fall 2008</td>\n",
       "    </tr>\n",
       "    <tr>\n",
       "      <th>8823</th>\n",
       "      <td>2012.0</td>\n",
       "      <td>12.0</td>\n",
       "      <td>Strategy Game</td>\n",
       "      <td>Unknown</td>\n",
       "      <td>Cross Fight B-Daman eS</td>\n",
       "      <td>B-Daman Fireblast</td>\n",
       "      <td>g - all ages</td>\n",
       "      <td>Unknown</td>\n",
       "      <td>the anime takes place in crest land, where the...</td>\n",
       "      <td>52.0</td>\n",
       "      <td>Fall 2012</td>\n",
       "    </tr>\n",
       "    <tr>\n",
       "      <th>8200</th>\n",
       "      <td>2016.0</td>\n",
       "      <td>23.0</td>\n",
       "      <td>Strategy Game</td>\n",
       "      <td>Unknown</td>\n",
       "      <td>Future Card Buddyfight Triple D</td>\n",
       "      <td>Future Card Buddyfight Triple D</td>\n",
       "      <td>pg - children</td>\n",
       "      <td>Card game</td>\n",
       "      <td>third season of future card buddyfight.</td>\n",
       "      <td>51.0</td>\n",
       "      <td>Spring 2016</td>\n",
       "    </tr>\n",
       "    <tr>\n",
       "      <th>7372</th>\n",
       "      <td>2015.0</td>\n",
       "      <td>24.0</td>\n",
       "      <td>Strategy Game</td>\n",
       "      <td>Unknown</td>\n",
       "      <td>Future Card Buddyfight Hundred</td>\n",
       "      <td>Future Card Buddyfight Hundred</td>\n",
       "      <td>pg - children</td>\n",
       "      <td>Card game</td>\n",
       "      <td>while tasuku is off training and getting rest ...</td>\n",
       "      <td>50.0</td>\n",
       "      <td>Spring 2015</td>\n",
       "    </tr>\n",
       "    <tr>\n",
       "      <th>9160</th>\n",
       "      <td>2014.0</td>\n",
       "      <td>23.0</td>\n",
       "      <td>Strategy Game</td>\n",
       "      <td>Unknown</td>\n",
       "      <td>Hero Bank</td>\n",
       "      <td>Herobank</td>\n",
       "      <td>pg - children</td>\n",
       "      <td>Game</td>\n",
       "      <td>in big money city, players participate in \"her...</td>\n",
       "      <td>51.0</td>\n",
       "      <td>Spring 2014</td>\n",
       "    </tr>\n",
       "    <tr>\n",
       "      <th>5885</th>\n",
       "      <td>2014.0</td>\n",
       "      <td>22.0</td>\n",
       "      <td>Strategy Game</td>\n",
       "      <td>Unknown</td>\n",
       "      <td>Majin Bone</td>\n",
       "      <td>Unknown</td>\n",
       "      <td>pg-13 - teens 13 or older</td>\n",
       "      <td>Game</td>\n",
       "      <td>anime adaptation of majin bone, a digital card...</td>\n",
       "      <td>52.0</td>\n",
       "      <td>Spring 2014</td>\n",
       "    </tr>\n",
       "    <tr>\n",
       "      <th>4817</th>\n",
       "      <td>2022.0</td>\n",
       "      <td>23.0</td>\n",
       "      <td>ZZZZ</td>\n",
       "      <td>Unknown</td>\n",
       "      <td>Yurei Deco</td>\n",
       "      <td>Yurei Deco</td>\n",
       "      <td>pg-13 - teens 13 or older</td>\n",
       "      <td>Original</td>\n",
       "      <td>in the cyber city tom sawyer, society revolves...</td>\n",
       "      <td>12.0</td>\n",
       "      <td>Summer 2022</td>\n",
       "    </tr>\n",
       "    <tr>\n",
       "      <th>6199</th>\n",
       "      <td>2011.0</td>\n",
       "      <td>24.0</td>\n",
       "      <td>ZZZZ</td>\n",
       "      <td>Unknown</td>\n",
       "      <td>Kaitou Tenshi Twin Angel: Kyun Kyun☆Tokimeki P...</td>\n",
       "      <td>Twin Angel Twinkle Paradise</td>\n",
       "      <td>pg-13 - teens 13 or older</td>\n",
       "      <td>Game</td>\n",
       "      <td>haruka minazuki and aoi kannazuki are two stud...</td>\n",
       "      <td>12.0</td>\n",
       "      <td>Summer 2011</td>\n",
       "    </tr>\n",
       "    <tr>\n",
       "      <th>12074</th>\n",
       "      <td>2007.0</td>\n",
       "      <td>11.0</td>\n",
       "      <td>ZZZZ</td>\n",
       "      <td>Unknown</td>\n",
       "      <td>Sugar Bunnies</td>\n",
       "      <td>Sugar Bunnies</td>\n",
       "      <td>g - all ages</td>\n",
       "      <td>Unknown</td>\n",
       "      <td>random cutesy edutainment tales aimed at small...</td>\n",
       "      <td>26.0</td>\n",
       "      <td>Spring 2007</td>\n",
       "    </tr>\n",
       "    <tr>\n",
       "      <th>14120</th>\n",
       "      <td>2002.0</td>\n",
       "      <td>25.0</td>\n",
       "      <td>ZZZZ</td>\n",
       "      <td>Unknown</td>\n",
       "      <td>Pecola</td>\n",
       "      <td>Pecola</td>\n",
       "      <td>g - all ages</td>\n",
       "      <td>Unknown</td>\n",
       "      <td>pecola is an orphaned penguin who lives with p...</td>\n",
       "      <td>26.0</td>\n",
       "      <td>Fall 2002</td>\n",
       "    </tr>\n",
       "    <tr>\n",
       "      <th>7772</th>\n",
       "      <td>2016.0</td>\n",
       "      <td>13.0</td>\n",
       "      <td>ZZZZ</td>\n",
       "      <td>Unknown</td>\n",
       "      <td>Flowering Heart</td>\n",
       "      <td>Flowering Heart</td>\n",
       "      <td>pg - children</td>\n",
       "      <td>Original</td>\n",
       "      <td>it's the first day of the new school year. 5th...</td>\n",
       "      <td>26.0</td>\n",
       "      <td>Winter 2016</td>\n",
       "    </tr>\n",
       "  </tbody>\n",
       "</table>\n",
       "</div>"
      ],
      "text/plain": [
       "         Year  Duration_Minutes         Themes   Genres  \\\n",
       "8327   2017.0              23.0  Strategy Game  Unknown   \n",
       "8694   2008.0              24.0  Strategy Game  Unknown   \n",
       "8823   2012.0              12.0  Strategy Game  Unknown   \n",
       "8200   2016.0              23.0  Strategy Game  Unknown   \n",
       "7372   2015.0              24.0  Strategy Game  Unknown   \n",
       "9160   2014.0              23.0  Strategy Game  Unknown   \n",
       "5885   2014.0              22.0  Strategy Game  Unknown   \n",
       "4817   2022.0              23.0           ZZZZ  Unknown   \n",
       "6199   2011.0              24.0           ZZZZ  Unknown   \n",
       "12074  2007.0              11.0           ZZZZ  Unknown   \n",
       "14120  2002.0              25.0           ZZZZ  Unknown   \n",
       "7772   2016.0              13.0           ZZZZ  Unknown   \n",
       "\n",
       "                                                   Title  \\\n",
       "8327                       Future Card Buddyfight Battsu   \n",
       "8694                Battle Spirits: Shounen Toppa Bashin   \n",
       "8823                              Cross Fight B-Daman eS   \n",
       "8200                     Future Card Buddyfight Triple D   \n",
       "7372                      Future Card Buddyfight Hundred   \n",
       "9160                                           Hero Bank   \n",
       "5885                                          Majin Bone   \n",
       "4817                                          Yurei Deco   \n",
       "6199   Kaitou Tenshi Twin Angel: Kyun Kyun☆Tokimeki P...   \n",
       "12074                                      Sugar Bunnies   \n",
       "14120                                             Pecola   \n",
       "7772                                     Flowering Heart   \n",
       "\n",
       "                               English                     Rating     Source  \\\n",
       "8327          Future Card Buddyfight X              pg - children  Card game   \n",
       "8694                           Unknown              pg - children  Card game   \n",
       "8823                 B-Daman Fireblast               g - all ages    Unknown   \n",
       "8200   Future Card Buddyfight Triple D              pg - children  Card game   \n",
       "7372    Future Card Buddyfight Hundred              pg - children  Card game   \n",
       "9160                          Herobank              pg - children       Game   \n",
       "5885                           Unknown  pg-13 - teens 13 or older       Game   \n",
       "4817                        Yurei Deco  pg-13 - teens 13 or older   Original   \n",
       "6199       Twin Angel Twinkle Paradise  pg-13 - teens 13 or older       Game   \n",
       "12074                    Sugar Bunnies               g - all ages    Unknown   \n",
       "14120                           Pecola               g - all ages    Unknown   \n",
       "7772                   Flowering Heart              pg - children   Original   \n",
       "\n",
       "                                                Synopsis  Episodes  \\\n",
       "8327        the fourth season of future card buddyfight.      52.0   \n",
       "8694   energetic and thrill-seeking sixth grader topp...      50.0   \n",
       "8823   the anime takes place in crest land, where the...      52.0   \n",
       "8200             third season of future card buddyfight.      51.0   \n",
       "7372   while tasuku is off training and getting rest ...      50.0   \n",
       "9160   in big money city, players participate in \"her...      51.0   \n",
       "5885   anime adaptation of majin bone, a digital card...      52.0   \n",
       "4817   in the cyber city tom sawyer, society revolves...      12.0   \n",
       "6199   haruka minazuki and aoi kannazuki are two stud...      12.0   \n",
       "12074  random cutesy edutainment tales aimed at small...      26.0   \n",
       "14120  pecola is an orphaned penguin who lives with p...      26.0   \n",
       "7772   it's the first day of the new school year. 5th...      26.0   \n",
       "\n",
       "         Premiered  \n",
       "8327   Spring 2017  \n",
       "8694     Fall 2008  \n",
       "8823     Fall 2012  \n",
       "8200   Spring 2016  \n",
       "7372   Spring 2015  \n",
       "9160   Spring 2014  \n",
       "5885   Spring 2014  \n",
       "4817   Summer 2022  \n",
       "6199   Summer 2011  \n",
       "12074  Spring 2007  \n",
       "14120    Fall 2002  \n",
       "7772   Winter 2016  "
      ]
     },
     "execution_count": 71,
     "metadata": {},
     "output_type": "execute_result"
    }
   ],
   "source": [
    "df3 = df3.sort_values(by=['Genres','Themes'],ascending=True)\n",
    "df3.tail(12)"
   ]
  },
  {
   "cell_type": "code",
   "execution_count": 72,
   "metadata": {},
   "outputs": [
    {
     "data": {
      "text/plain": [
       "(3241, 11)"
      ]
     },
     "execution_count": 72,
     "metadata": {},
     "output_type": "execute_result"
    }
   ],
   "source": [
    "## Keep in Mind that the amount of data with ZZZZ and Unknown will change because we are shuffling the data\n",
    "df3.shape"
   ]
  },
  {
   "cell_type": "code",
   "execution_count": 73,
   "metadata": {},
   "outputs": [
    {
     "data": {
      "text/plain": [
       "3030"
      ]
     },
     "execution_count": 73,
     "metadata": {},
     "output_type": "execute_result"
    }
   ],
   "source": [
    "3040-10"
   ]
  },
  {
   "cell_type": "code",
   "execution_count": 74,
   "metadata": {},
   "outputs": [],
   "source": [
    "df3 = df3.iloc[:3230,:]         ## Delete 79 with Unknown Values on Genres and Themes"
   ]
  },
  {
   "cell_type": "code",
   "execution_count": 75,
   "metadata": {},
   "outputs": [
    {
     "data": {
      "text/plain": [
       "(3230, 11)"
      ]
     },
     "execution_count": 75,
     "metadata": {},
     "output_type": "execute_result"
    }
   ],
   "source": [
    "df3.shape"
   ]
  },
  {
   "cell_type": "code",
   "execution_count": 76,
   "metadata": {},
   "outputs": [
    {
     "data": {
      "text/html": [
       "<div>\n",
       "<style scoped>\n",
       "    .dataframe tbody tr th:only-of-type {\n",
       "        vertical-align: middle;\n",
       "    }\n",
       "\n",
       "    .dataframe tbody tr th {\n",
       "        vertical-align: top;\n",
       "    }\n",
       "\n",
       "    .dataframe thead th {\n",
       "        text-align: right;\n",
       "    }\n",
       "</style>\n",
       "<table border=\"1\" class=\"dataframe\">\n",
       "  <thead>\n",
       "    <tr style=\"text-align: right;\">\n",
       "      <th></th>\n",
       "      <th>Year</th>\n",
       "      <th>Duration_Minutes</th>\n",
       "      <th>Themes</th>\n",
       "      <th>Genres</th>\n",
       "      <th>Title</th>\n",
       "      <th>English</th>\n",
       "      <th>Rating</th>\n",
       "      <th>Source</th>\n",
       "      <th>Synopsis</th>\n",
       "      <th>Episodes</th>\n",
       "      <th>Premiered</th>\n",
       "    </tr>\n",
       "  </thead>\n",
       "  <tbody>\n",
       "    <tr>\n",
       "      <th>15309</th>\n",
       "      <td>2010.0</td>\n",
       "      <td>11.0</td>\n",
       "      <td>Racing</td>\n",
       "      <td>Unknown</td>\n",
       "      <td>Kkoma Bus Tayo</td>\n",
       "      <td>Tayo the Little Bus Season 1</td>\n",
       "      <td>g - all ages</td>\n",
       "      <td>Original</td>\n",
       "      <td>tayo the little bus is about exciting adventur...</td>\n",
       "      <td>26.0</td>\n",
       "      <td>Summer 2010</td>\n",
       "    </tr>\n",
       "    <tr>\n",
       "      <th>8982</th>\n",
       "      <td>2010.0</td>\n",
       "      <td>25.0</td>\n",
       "      <td>Racing, Space, Strategy Game</td>\n",
       "      <td>Unknown</td>\n",
       "      <td>Scan2Go</td>\n",
       "      <td>Scan2Go</td>\n",
       "      <td>g - all ages</td>\n",
       "      <td>Original</td>\n",
       "      <td>sometime in the near future, in an age in whic...</td>\n",
       "      <td>52.0</td>\n",
       "      <td>Summer 2010</td>\n",
       "    </tr>\n",
       "    <tr>\n",
       "      <th>1376</th>\n",
       "      <td>2015.0</td>\n",
       "      <td>12.0</td>\n",
       "      <td>Reverse Harem, School, Vampire</td>\n",
       "      <td>Unknown</td>\n",
       "      <td>Diabolik Lovers More,Blood</td>\n",
       "      <td>Diabolik Lovers II More,Blood</td>\n",
       "      <td>r - 17+ (violence &amp; profanity)</td>\n",
       "      <td>Visual novel</td>\n",
       "      <td>yui komori, still held captive by the sakamaki...</td>\n",
       "      <td>12.0</td>\n",
       "      <td>Fall 2015</td>\n",
       "    </tr>\n",
       "    <tr>\n",
       "      <th>618</th>\n",
       "      <td>2013.0</td>\n",
       "      <td>15.0</td>\n",
       "      <td>Reverse Harem, School, Vampire</td>\n",
       "      <td>Unknown</td>\n",
       "      <td>Diabolik Lovers</td>\n",
       "      <td>Diabolik Lovers</td>\n",
       "      <td>r - 17+ (violence &amp; profanity)</td>\n",
       "      <td>Visual novel</td>\n",
       "      <td>at the behest of her father, yui komori goes t...</td>\n",
       "      <td>12.0</td>\n",
       "      <td>Fall 2013</td>\n",
       "    </tr>\n",
       "    <tr>\n",
       "      <th>3826</th>\n",
       "      <td>2021.0</td>\n",
       "      <td>24.0</td>\n",
       "      <td>School</td>\n",
       "      <td>Unknown</td>\n",
       "      <td>Blue Reflection Ray</td>\n",
       "      <td>Blue Reflection Ray</td>\n",
       "      <td>pg-13 - teens 13 or older</td>\n",
       "      <td>Game</td>\n",
       "      <td>individual pieces of human emotion usually tak...</td>\n",
       "      <td>24.0</td>\n",
       "      <td>Spring 2021</td>\n",
       "    </tr>\n",
       "    <tr>\n",
       "      <th>12199</th>\n",
       "      <td>2001.0</td>\n",
       "      <td>20.0</td>\n",
       "      <td>School</td>\n",
       "      <td>Unknown</td>\n",
       "      <td>Go! Go! Itsutsugo Land</td>\n",
       "      <td>Unknown</td>\n",
       "      <td>g - all ages</td>\n",
       "      <td>Unknown</td>\n",
       "      <td>the series is about five quintuplets, kabuto, ...</td>\n",
       "      <td>50.0</td>\n",
       "      <td>Spring 2001</td>\n",
       "    </tr>\n",
       "    <tr>\n",
       "      <th>12047</th>\n",
       "      <td>1998.0</td>\n",
       "      <td>24.0</td>\n",
       "      <td>School</td>\n",
       "      <td>Unknown</td>\n",
       "      <td>Himitsu no Akko-chan 3</td>\n",
       "      <td>Unknown</td>\n",
       "      <td>g - all ages</td>\n",
       "      <td>Unknown</td>\n",
       "      <td>in the kagami household, the old western palm-...</td>\n",
       "      <td>44.0</td>\n",
       "      <td>Spring 1998</td>\n",
       "    </tr>\n",
       "    <tr>\n",
       "      <th>1651</th>\n",
       "      <td>2016.0</td>\n",
       "      <td>24.0</td>\n",
       "      <td>School</td>\n",
       "      <td>Unknown</td>\n",
       "      <td>Shoujo-tachi wa Kouya wo Mezasu</td>\n",
       "      <td>Girls Beyond the Wasteland</td>\n",
       "      <td>pg-13 - teens 13 or older</td>\n",
       "      <td>Visual novel</td>\n",
       "      <td>shoujo-tachi wa kouya wo mezasu is a series al...</td>\n",
       "      <td>12.0</td>\n",
       "      <td>Winter 2016</td>\n",
       "    </tr>\n",
       "    <tr>\n",
       "      <th>2193</th>\n",
       "      <td>2017.0</td>\n",
       "      <td>23.0</td>\n",
       "      <td>School, Strategy Game</td>\n",
       "      <td>Unknown</td>\n",
       "      <td>Nana Maru San Batsu</td>\n",
       "      <td>Fastest Finger First</td>\n",
       "      <td>pg-13 - teens 13 or older</td>\n",
       "      <td>Manga</td>\n",
       "      <td>as soon as he entered high school, the first y...</td>\n",
       "      <td>12.0</td>\n",
       "      <td>Summer 2017</td>\n",
       "    </tr>\n",
       "    <tr>\n",
       "      <th>3339</th>\n",
       "      <td>2015.0</td>\n",
       "      <td>23.0</td>\n",
       "      <td>Space</td>\n",
       "      <td>Unknown</td>\n",
       "      <td>Houkago no Pleiades (TV)</td>\n",
       "      <td>Wish Upon the Pleiades</td>\n",
       "      <td>pg-13 - teens 13 or older</td>\n",
       "      <td>Original</td>\n",
       "      <td>the sky is the limit in houkago no pleiades. w...</td>\n",
       "      <td>12.0</td>\n",
       "      <td>Spring 2015</td>\n",
       "    </tr>\n",
       "    <tr>\n",
       "      <th>13095</th>\n",
       "      <td>1991.0</td>\n",
       "      <td>24.0</td>\n",
       "      <td>Space</td>\n",
       "      <td>Unknown</td>\n",
       "      <td>Ultraman Kids: Haha wo Tazunete 3000-man Kounen</td>\n",
       "      <td>Ultraman Kids Looking for Mother for 30000000 ...</td>\n",
       "      <td>pg - children</td>\n",
       "      <td>Other</td>\n",
       "      <td>ultraman kids go on a journey to search for th...</td>\n",
       "      <td>26.0</td>\n",
       "      <td>Fall 1991</td>\n",
       "    </tr>\n",
       "    <tr>\n",
       "      <th>6440</th>\n",
       "      <td>2011.0</td>\n",
       "      <td>14.0</td>\n",
       "      <td>Strategy Game</td>\n",
       "      <td>Unknown</td>\n",
       "      <td>Cross Fight B-Daman</td>\n",
       "      <td>B-Daman Crossfire</td>\n",
       "      <td>g - all ages</td>\n",
       "      <td>Unknown</td>\n",
       "      <td>a rumor has spread amongst the children worldw...</td>\n",
       "      <td>52.0</td>\n",
       "      <td>Fall 2011</td>\n",
       "    </tr>\n",
       "    <tr>\n",
       "      <th>6235</th>\n",
       "      <td>2016.0</td>\n",
       "      <td>24.0</td>\n",
       "      <td>Strategy Game</td>\n",
       "      <td>Unknown</td>\n",
       "      <td>Puzzle &amp; Dragons Cross</td>\n",
       "      <td>Puzzle &amp; Dragons X</td>\n",
       "      <td>pg-13 - teens 13 or older</td>\n",
       "      <td>Game</td>\n",
       "      <td>dorogoza island is rich in \"drop energy\" that ...</td>\n",
       "      <td>89.0</td>\n",
       "      <td>Summer 2016</td>\n",
       "    </tr>\n",
       "    <tr>\n",
       "      <th>5702</th>\n",
       "      <td>2014.0</td>\n",
       "      <td>24.0</td>\n",
       "      <td>Strategy Game</td>\n",
       "      <td>Unknown</td>\n",
       "      <td>Future Card Buddyfight</td>\n",
       "      <td>Future Card Buddyfight</td>\n",
       "      <td>pg - children</td>\n",
       "      <td>Card game</td>\n",
       "      <td>an adaptation of the future card buddyfight ca...</td>\n",
       "      <td>64.0</td>\n",
       "      <td>Winter 2014</td>\n",
       "    </tr>\n",
       "    <tr>\n",
       "      <th>8414</th>\n",
       "      <td>2015.0</td>\n",
       "      <td>22.0</td>\n",
       "      <td>Strategy Game</td>\n",
       "      <td>Unknown</td>\n",
       "      <td>Battle Spirits: Burning Soul</td>\n",
       "      <td>Unknown</td>\n",
       "      <td>pg - children</td>\n",
       "      <td>Card game</td>\n",
       "      <td>in the near future, a battle card game called ...</td>\n",
       "      <td>51.0</td>\n",
       "      <td>Spring 2015</td>\n",
       "    </tr>\n",
       "    <tr>\n",
       "      <th>9252</th>\n",
       "      <td>2018.0</td>\n",
       "      <td>24.0</td>\n",
       "      <td>Strategy Game</td>\n",
       "      <td>Unknown</td>\n",
       "      <td>Future Card Shin Buddyfight</td>\n",
       "      <td>Future Card Buddyfight Ace</td>\n",
       "      <td>pg - children</td>\n",
       "      <td>Card game</td>\n",
       "      <td>set 23 years after the end of the original fut...</td>\n",
       "      <td>47.0</td>\n",
       "      <td>Summer 2018</td>\n",
       "    </tr>\n",
       "    <tr>\n",
       "      <th>9963</th>\n",
       "      <td>2018.0</td>\n",
       "      <td>24.0</td>\n",
       "      <td>Strategy Game</td>\n",
       "      <td>Unknown</td>\n",
       "      <td>Future Card Buddyfight Battsu: All-Star Fight</td>\n",
       "      <td>Unknown</td>\n",
       "      <td>pg - children</td>\n",
       "      <td>Card game</td>\n",
       "      <td>the fifth season of future card buddyfight.</td>\n",
       "      <td>8.0</td>\n",
       "      <td>Spring 2018</td>\n",
       "    </tr>\n",
       "    <tr>\n",
       "      <th>9535</th>\n",
       "      <td>2014.0</td>\n",
       "      <td>11.0</td>\n",
       "      <td>Strategy Game</td>\n",
       "      <td>Unknown</td>\n",
       "      <td>Oreca Battle</td>\n",
       "      <td>Unknown</td>\n",
       "      <td>g - all ages</td>\n",
       "      <td>Game</td>\n",
       "      <td>the anime adaptation revolves around a young b...</td>\n",
       "      <td>51.0</td>\n",
       "      <td>Spring 2014</td>\n",
       "    </tr>\n",
       "    <tr>\n",
       "      <th>5811</th>\n",
       "      <td>2021.0</td>\n",
       "      <td>23.0</td>\n",
       "      <td>Strategy Game</td>\n",
       "      <td>Unknown</td>\n",
       "      <td>WIXOSS Diva(A)Live</td>\n",
       "      <td>Unknown</td>\n",
       "      <td>pg-13 - teens 13 or older</td>\n",
       "      <td>Card game</td>\n",
       "      <td>the story moves the \"wixoss\" card game to the ...</td>\n",
       "      <td>12.0</td>\n",
       "      <td>Winter 2021</td>\n",
       "    </tr>\n",
       "    <tr>\n",
       "      <th>8327</th>\n",
       "      <td>2017.0</td>\n",
       "      <td>23.0</td>\n",
       "      <td>Strategy Game</td>\n",
       "      <td>Unknown</td>\n",
       "      <td>Future Card Buddyfight Battsu</td>\n",
       "      <td>Future Card Buddyfight X</td>\n",
       "      <td>pg - children</td>\n",
       "      <td>Card game</td>\n",
       "      <td>the fourth season of future card buddyfight.</td>\n",
       "      <td>52.0</td>\n",
       "      <td>Spring 2017</td>\n",
       "    </tr>\n",
       "  </tbody>\n",
       "</table>\n",
       "</div>"
      ],
      "text/plain": [
       "         Year  Duration_Minutes                          Themes   Genres  \\\n",
       "15309  2010.0              11.0                          Racing  Unknown   \n",
       "8982   2010.0              25.0    Racing, Space, Strategy Game  Unknown   \n",
       "1376   2015.0              12.0  Reverse Harem, School, Vampire  Unknown   \n",
       "618    2013.0              15.0  Reverse Harem, School, Vampire  Unknown   \n",
       "3826   2021.0              24.0                          School  Unknown   \n",
       "12199  2001.0              20.0                          School  Unknown   \n",
       "12047  1998.0              24.0                          School  Unknown   \n",
       "1651   2016.0              24.0                          School  Unknown   \n",
       "2193   2017.0              23.0           School, Strategy Game  Unknown   \n",
       "3339   2015.0              23.0                           Space  Unknown   \n",
       "13095  1991.0              24.0                           Space  Unknown   \n",
       "6440   2011.0              14.0                   Strategy Game  Unknown   \n",
       "6235   2016.0              24.0                   Strategy Game  Unknown   \n",
       "5702   2014.0              24.0                   Strategy Game  Unknown   \n",
       "8414   2015.0              22.0                   Strategy Game  Unknown   \n",
       "9252   2018.0              24.0                   Strategy Game  Unknown   \n",
       "9963   2018.0              24.0                   Strategy Game  Unknown   \n",
       "9535   2014.0              11.0                   Strategy Game  Unknown   \n",
       "5811   2021.0              23.0                   Strategy Game  Unknown   \n",
       "8327   2017.0              23.0                   Strategy Game  Unknown   \n",
       "\n",
       "                                                 Title  \\\n",
       "15309                                   Kkoma Bus Tayo   \n",
       "8982                                           Scan2Go   \n",
       "1376                        Diabolik Lovers More,Blood   \n",
       "618                                    Diabolik Lovers   \n",
       "3826                               Blue Reflection Ray   \n",
       "12199                           Go! Go! Itsutsugo Land   \n",
       "12047                           Himitsu no Akko-chan 3   \n",
       "1651                   Shoujo-tachi wa Kouya wo Mezasu   \n",
       "2193                               Nana Maru San Batsu   \n",
       "3339                          Houkago no Pleiades (TV)   \n",
       "13095  Ultraman Kids: Haha wo Tazunete 3000-man Kounen   \n",
       "6440                               Cross Fight B-Daman   \n",
       "6235                            Puzzle & Dragons Cross   \n",
       "5702                            Future Card Buddyfight   \n",
       "8414                      Battle Spirits: Burning Soul   \n",
       "9252                       Future Card Shin Buddyfight   \n",
       "9963     Future Card Buddyfight Battsu: All-Star Fight   \n",
       "9535                                      Oreca Battle   \n",
       "5811                                WIXOSS Diva(A)Live   \n",
       "8327                     Future Card Buddyfight Battsu   \n",
       "\n",
       "                                                 English  \\\n",
       "15309                       Tayo the Little Bus Season 1   \n",
       "8982                                             Scan2Go   \n",
       "1376                       Diabolik Lovers II More,Blood   \n",
       "618                                      Diabolik Lovers   \n",
       "3826                                 Blue Reflection Ray   \n",
       "12199                                            Unknown   \n",
       "12047                                            Unknown   \n",
       "1651                          Girls Beyond the Wasteland   \n",
       "2193                                Fastest Finger First   \n",
       "3339                              Wish Upon the Pleiades   \n",
       "13095  Ultraman Kids Looking for Mother for 30000000 ...   \n",
       "6440                                   B-Daman Crossfire   \n",
       "6235                                  Puzzle & Dragons X   \n",
       "5702                              Future Card Buddyfight   \n",
       "8414                                             Unknown   \n",
       "9252                          Future Card Buddyfight Ace   \n",
       "9963                                             Unknown   \n",
       "9535                                             Unknown   \n",
       "5811                                             Unknown   \n",
       "8327                            Future Card Buddyfight X   \n",
       "\n",
       "                               Rating        Source  \\\n",
       "15309                    g - all ages      Original   \n",
       "8982                     g - all ages      Original   \n",
       "1376   r - 17+ (violence & profanity)  Visual novel   \n",
       "618    r - 17+ (violence & profanity)  Visual novel   \n",
       "3826        pg-13 - teens 13 or older          Game   \n",
       "12199                    g - all ages       Unknown   \n",
       "12047                    g - all ages       Unknown   \n",
       "1651        pg-13 - teens 13 or older  Visual novel   \n",
       "2193        pg-13 - teens 13 or older         Manga   \n",
       "3339        pg-13 - teens 13 or older      Original   \n",
       "13095                   pg - children         Other   \n",
       "6440                     g - all ages       Unknown   \n",
       "6235        pg-13 - teens 13 or older          Game   \n",
       "5702                    pg - children     Card game   \n",
       "8414                    pg - children     Card game   \n",
       "9252                    pg - children     Card game   \n",
       "9963                    pg - children     Card game   \n",
       "9535                     g - all ages          Game   \n",
       "5811        pg-13 - teens 13 or older     Card game   \n",
       "8327                    pg - children     Card game   \n",
       "\n",
       "                                                Synopsis  Episodes  \\\n",
       "15309  tayo the little bus is about exciting adventur...      26.0   \n",
       "8982   sometime in the near future, in an age in whic...      52.0   \n",
       "1376   yui komori, still held captive by the sakamaki...      12.0   \n",
       "618    at the behest of her father, yui komori goes t...      12.0   \n",
       "3826   individual pieces of human emotion usually tak...      24.0   \n",
       "12199  the series is about five quintuplets, kabuto, ...      50.0   \n",
       "12047  in the kagami household, the old western palm-...      44.0   \n",
       "1651   shoujo-tachi wa kouya wo mezasu is a series al...      12.0   \n",
       "2193   as soon as he entered high school, the first y...      12.0   \n",
       "3339   the sky is the limit in houkago no pleiades. w...      12.0   \n",
       "13095  ultraman kids go on a journey to search for th...      26.0   \n",
       "6440   a rumor has spread amongst the children worldw...      52.0   \n",
       "6235   dorogoza island is rich in \"drop energy\" that ...      89.0   \n",
       "5702   an adaptation of the future card buddyfight ca...      64.0   \n",
       "8414   in the near future, a battle card game called ...      51.0   \n",
       "9252   set 23 years after the end of the original fut...      47.0   \n",
       "9963         the fifth season of future card buddyfight.       8.0   \n",
       "9535   the anime adaptation revolves around a young b...      51.0   \n",
       "5811   the story moves the \"wixoss\" card game to the ...      12.0   \n",
       "8327        the fourth season of future card buddyfight.      52.0   \n",
       "\n",
       "         Premiered  \n",
       "15309  Summer 2010  \n",
       "8982   Summer 2010  \n",
       "1376     Fall 2015  \n",
       "618      Fall 2013  \n",
       "3826   Spring 2021  \n",
       "12199  Spring 2001  \n",
       "12047  Spring 1998  \n",
       "1651   Winter 2016  \n",
       "2193   Summer 2017  \n",
       "3339   Spring 2015  \n",
       "13095    Fall 1991  \n",
       "6440     Fall 2011  \n",
       "6235   Summer 2016  \n",
       "5702   Winter 2014  \n",
       "8414   Spring 2015  \n",
       "9252   Summer 2018  \n",
       "9963   Spring 2018  \n",
       "9535   Spring 2014  \n",
       "5811   Winter 2021  \n",
       "8327   Spring 2017  "
      ]
     },
     "execution_count": 76,
     "metadata": {},
     "output_type": "execute_result"
    }
   ],
   "source": [
    "df3.tail(20)"
   ]
  },
  {
   "cell_type": "code",
   "execution_count": 77,
   "metadata": {},
   "outputs": [],
   "source": [
    "### Some Non-Animes are going to leak into the model, because there is now way to remove them unless it is manually. \n",
    "### Like Porong Porong Poror which is a CGI (clay like) show for kids with Duration of 10 minutes like a small quantity of animes. \n"
   ]
  },
  {
   "cell_type": "code",
   "execution_count": 78,
   "metadata": {},
   "outputs": [],
   "source": [
    "### LAST DATA CLEANING BEFORE CONVERTING IT INTO A CSV\n",
    "\n",
    "df3['Rating'] = df3['Rating'].str.replace('[^a-zA-Z0-9]', ' ', regex=True).str.strip()\n",
    "df3['Genres'] = df3['Genres'].str.replace('[^a-zA-Z0-9]', ' ', regex=True).str.strip()\n",
    "df3['Source'] = df3['Source'].str.replace('[^a-zA-Z0-9]', ' ', regex=True).str.strip()\n",
    "df3['Themes'] = df3['Themes'].str.replace('[^a-zA-Z0-9]', ' ', regex=True).str.strip()\n",
    "#df3['Studio'] = df4['Studio'].str.replace('[^a-zA-Z0-9]', ' ', regex=True).str.strip()\n",
    "df3['Title'] = df3['Title'].str.replace('[^a-zA-Z0-9]', ' ', regex=True).str.strip()\n",
    "df3['Synopsis'] = df3['Synopsis'].str.replace('\\d+', ' ', regex=True).str.strip()\n",
    "\n",
    "df3['Rating'] = df3['Rating'].str.replace('\\d+', '', regex=True).str.strip()\n",
    "df3['Genres'] = df3['Genres'].str.replace('\\d+', '', regex=True).str.strip()\n",
    "df3['Source'] = df3['Source'].str.replace('\\d+', '', regex=True).str.strip()\n",
    "df3['Themes'] = df3['Themes'].str.replace('\\d+', '', regex=True).str.strip()\n",
    "#df4['Studio'] = df4['Studio'].str.replace('\\d+', '', regex=True).str.strip()\n",
    "df3['Title'] = df3['Title'].str.replace('\\d+', '', regex=True).str.strip()\n",
    "df3['Synopsis'] = df3['Synopsis'].str.replace('[^a-zA-Z0-9]', ' ', regex=True).str.strip()\n"
   ]
  },
  {
   "cell_type": "code",
   "execution_count": 79,
   "metadata": {},
   "outputs": [],
   "source": [
    "df3.to_csv('AnimeDB4.csv')"
   ]
  },
  {
   "cell_type": "code",
   "execution_count": 80,
   "metadata": {},
   "outputs": [],
   "source": [
    "# print(df3.loc[df3.Duration_Minutes < 5 , \"Duration_Minutes\"].value_counts().sum())"
   ]
  },
  {
   "cell_type": "code",
   "execution_count": 81,
   "metadata": {},
   "outputs": [],
   "source": [
    "# df3.loc[df3.Duration_Minutes < 10 ]"
   ]
  },
  {
   "cell_type": "code",
   "execution_count": 82,
   "metadata": {},
   "outputs": [],
   "source": [
    "# df3.loc[df3.Year == 1999 ]"
   ]
  },
  {
   "cell_type": "code",
   "execution_count": 83,
   "metadata": {},
   "outputs": [],
   "source": [
    "# df3.Year.value_counts()"
   ]
  },
  {
   "cell_type": "code",
   "execution_count": 84,
   "metadata": {},
   "outputs": [
    {
     "data": {
      "text/plain": [
       "\"\\nL = ['Themes', 'Genres', 'Title', 'Rating',\\n       'Source', 'Synopsis', 'Episodes']\\nfor x in L:\\n    print(df3[x].value_counts())\\n    \""
      ]
     },
     "execution_count": 84,
     "metadata": {},
     "output_type": "execute_result"
    }
   ],
   "source": [
    "'''\n",
    "L = ['Themes', 'Genres', 'Title', 'Rating',\n",
    "       'Source', 'Synopsis', 'Episodes']\n",
    "for x in L:\n",
    "    print(df3[x].value_counts())\n",
    "    '''"
   ]
  },
  {
   "cell_type": "code",
   "execution_count": 85,
   "metadata": {},
   "outputs": [],
   "source": [
    "## Let's check the Source with Unknown V's\n",
    "# df3.loc[df3.Source == \"Unknown\"] "
   ]
  },
  {
   "cell_type": "markdown",
   "metadata": {},
   "source": [
    "#### Another approach someone could take is to drop Rows based on the AGE the anime aired, usually old animes aren't popular and people prefer to watch new stuff or recent.  I did that in order to Build AnimeDB4.\n",
    "\n",
    "#### Seems like this AnimeDB3 has little improvement compared to AnimeDB2 .\n",
    "\n",
    "#### If you only want to build a recommendation sys for SHOWS (animes with episodes) and not movies you can try removing by Episodes. Just watch out the Nan values on Episodes, some of them are One Piece and Boruta (very popular animes)\n",
    "\n",
    "#### Last, you can create AnimeDBp's with different criterias, a good criteria could be to create an AnimeDB just with more than 15 minutes Duration. But keep in mind that there are animes with 11 or 12 Duration_Minutes. \n",
    "\n",
    "#### So the best approach would be to create many AnimeDB's with many criterias, one for Adults, one for animes that last 15+ minutes, another one for short duration animes, other one only for Shows and not considering Ova's nor Movies. And running the model on each. \n",
    "\n",
    "#### AnimeDB4 is a DB that don't consider < 10 animes & Adult animes. So this DB can serve as a Base to create other DB's"
   ]
  },
  {
   "cell_type": "code",
   "execution_count": 86,
   "metadata": {},
   "outputs": [],
   "source": [
    "#df[[\"Episodes\",\"Genres\",\"Themes\",\"Title\",\"Synopsis\",\"Duration_Minutes\"]].loc[df.Rating == \"Rx - Hentai\" ].tail(39)"
   ]
  },
  {
   "cell_type": "code",
   "execution_count": 87,
   "metadata": {},
   "outputs": [],
   "source": [
    "#df.Rating.value_counts()"
   ]
  },
  {
   "cell_type": "code",
   "execution_count": 88,
   "metadata": {},
   "outputs": [],
   "source": [
    "#df.loc[df.Rating == \"R+ - Mild \" ].head(30)"
   ]
  },
  {
   "cell_type": "code",
   "execution_count": 89,
   "metadata": {},
   "outputs": [],
   "source": [
    "#df[[\"Episodes\",\"Genres\",\"Themes\",\"Title\",\"Synopsis\",\"Duration_Minutes\"]].loc[df.Rating == \"PG - Children\" ].head(39)"
   ]
  }
 ],
 "metadata": {
  "kernelspec": {
   "display_name": "Python 3",
   "language": "python",
   "name": "python3"
  },
  "language_info": {
   "codemirror_mode": {
    "name": "ipython",
    "version": 3
   },
   "file_extension": ".py",
   "mimetype": "text/x-python",
   "name": "python",
   "nbconvert_exporter": "python",
   "pygments_lexer": "ipython3",
   "version": "3.8.3"
  }
 },
 "nbformat": 4,
 "nbformat_minor": 4
}
